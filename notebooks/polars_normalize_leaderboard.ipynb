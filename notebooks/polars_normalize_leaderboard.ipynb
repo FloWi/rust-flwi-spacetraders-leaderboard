{
 "cells": [
  {
   "cell_type": "markdown",
   "id": "fca92c00-639c-4419-b7db-9e7bf1e27669",
   "metadata": {},
   "source": [
    "# Converting leaderboard databases to pandas dataframe"
   ]
  },
  {
   "cell_type": "code",
   "execution_count": 1,
   "id": "ce646b20-208d-4add-8a7f-5a1e74aba3e7",
   "metadata": {},
   "outputs": [],
   "source": [
    "import polars as pl\n",
    "import pandas as pd\n",
    "import sqlite3\n",
    "import matplotlib.pyplot as plt\n",
    "import numpy as np\n",
    "from IPython.core.display import Markdown"
   ]
  },
  {
   "cell_type": "code",
   "execution_count": 2,
   "id": "fbb0e9ff-a244-4419-934f-5098cb087ebf",
   "metadata": {},
   "outputs": [
    {
     "data": {
      "text/plain": [
       "'0.20.10'"
      ]
     },
     "execution_count": 2,
     "metadata": {},
     "output_type": "execute_result"
    }
   ],
   "source": [
    "pl.__version__"
   ]
  },
  {
   "cell_type": "code",
   "execution_count": 3,
   "id": "467d9a46-5870-41f1-abda-870d52dd8a6d",
   "metadata": {},
   "outputs": [],
   "source": [
    "# Define the struct dtype for the materials array\n",
    "materials_struct_dtype = pl.Struct({\n",
    "    \"fulfilled\": pl.Int64,\n",
    "    \"required\": pl.Int64,\n",
    "    \"tradeSymbol\": pl.Utf8,\n",
    "})\n",
    "\n",
    "# Define the overall struct dtype for the JSON\n",
    "json_struct_dtype = pl.Struct({\n",
    "    \"isComplete\": pl.Boolean,\n",
    "    \"materials\": pl.List(materials_struct_dtype),\n",
    "    \"symbol\": pl.Utf8,\n",
    "}\n",
    ")"
   ]
  },
  {
   "cell_type": "code",
   "execution_count": 4,
   "id": "d929ec7f-2936-4590-ba89-e8e429725194",
   "metadata": {
    "scrolled": true
   },
   "outputs": [],
   "source": [
    "def read_dataframe(reset_date):\n",
    "    connection_string = f\"sqlite:///Users/florian_witteler/programming/spacetraders/flwi-spacetraders/data/database/flwi-spacetraders-leaderboard-reset_{reset_date}.db\"\n",
    "    df = pl.read_database_uri(query=\"\"\"\n",
    "    SELECT datetime(timestamp) as ts_string\n",
    "         , agent_id\n",
    "         , crawl_run_id\n",
    "         , credits\n",
    "         , ship_count\n",
    "         , construction_json\n",
    "         , agent_symbol\n",
    "         , headquarters_waypoint_symbol\n",
    "         , jump_gate_waypoint_symbol\n",
    "    from main.crawl_run cr\n",
    "             join main.leaderboard_entry le on cr.id = le.crawl_run_id\n",
    "             join main.static_agent_detail sad on le.agent_id = sad.id\n",
    "    \"\"\", uri=connection_string)\n",
    "\n",
    "    return df \\\n",
    "      .with_columns(pl.col(\"ts_string\").str.to_datetime('%Y-%m-%d %H:%M:%S').alias(\"ts\")) \\\n",
    "      .with_columns(pl.lit(reset_date).alias(\"reset_date\")) \\\n",
    "      .with_columns(pl.col(\"construction_json\").str.json_decode(json_struct_dtype)) \\\n",
    "      .drop(\"ts_string\", \"agent_id\", \"crawl_run_id\")"
   ]
  },
  {
   "cell_type": "markdown",
   "id": "0252f560-8eb3-4a08-a2f4-b5331cdf152a",
   "metadata": {},
   "source": [
    "## create dataframe from _all_ sqlite files"
   ]
  },
  {
   "cell_type": "code",
   "execution_count": 5,
   "id": "0ad21141-27e7-4a56-a4f3-dbb53eb2539a",
   "metadata": {},
   "outputs": [],
   "source": [
    "df_all = pl.concat([\n",
    "    read_dataframe(\"2023_11_18\"),\n",
    "    read_dataframe(\"2023_12_02\"),\n",
    "    read_dataframe(\"2023_12_16\"),\n",
    "    read_dataframe(\"2023_12_30\"),\n",
    "    read_dataframe(\"2024_01_13\"),\n",
    "    read_dataframe(\"2024_01_28\"),\n",
    "    read_dataframe(\"2024_02_11\"),\n",
    "    read_dataframe(\"2024_02_25\"),\n",
    "    read_dataframe(\"2024_03_10\"),\n",
    "    read_dataframe(\"2024_03_24\"),\n",
    "    read_dataframe(\"2024_04_09\"),\n",
    "    read_dataframe(\"2024_04_28\"),\n",
    "    read_dataframe(\"2024_05_19\"),\n",
    "])  "
   ]
  },
  {
   "cell_type": "markdown",
   "id": "ae7d9dc7-0daa-40b9-b0d2-214e39c02860",
   "metadata": {},
   "source": [
    "### notes\n",
    "Roudtrip via parquet is necessary, since we encounter a bug otherwise. Seems to be a problem with concatenation of different dataframes\n",
    "```text\n",
    "thread '<unnamed>' panicked at /Users/runner/work/polars/polars/crates/polars-arrow/src/chunk.rs:20:31:\n",
    "called `Result::unwrap()` on an `Err` value: ComputeError(ErrString(\"Chunk require all its arrays to have an equal number of rows\"))\n",
    "```"
   ]
  },
  {
   "cell_type": "code",
   "execution_count": 6,
   "id": "dc1fcdc7-cee2-48d1-8d3c-7216370a31a0",
   "metadata": {},
   "outputs": [],
   "source": [
    "df_all.write_parquet(\"all_resets.parquet\")"
   ]
  },
  {
   "cell_type": "code",
   "execution_count": 7,
   "id": "fc42bddc-e65c-4790-a5f3-ab02918ed5fa",
   "metadata": {},
   "outputs": [],
   "source": [
    "df_all = pl.read_parquet(\"all_resets.parquet\")"
   ]
  },
  {
   "cell_type": "code",
   "execution_count": 8,
   "id": "4516f396-6ce2-4be7-8d3f-f862d2704b09",
   "metadata": {},
   "outputs": [
    {
     "data": {
      "text/html": [
       "<div><style>\n",
       ".dataframe > thead > tr,\n",
       ".dataframe > tbody > tr {\n",
       "  text-align: right;\n",
       "  white-space: pre-wrap;\n",
       "}\n",
       "</style>\n",
       "<small>shape: (5, 4)</small><table border=\"1\" class=\"dataframe\"><thead><tr><th>reset</th><th>reset_date_str</th><th>first_ts</th><th>reset_id</th></tr><tr><td>str</td><td>str</td><td>datetime[μs]</td><td>u32</td></tr></thead><tbody><tr><td>&quot;2023-11-18&quot;</td><td>&quot;2023_11_18&quot;</td><td>2023-11-19 12:30:00</td><td>1</td></tr><tr><td>&quot;2023-12-02&quot;</td><td>&quot;2023_12_02&quot;</td><td>2023-12-02 19:10:00</td><td>2</td></tr><tr><td>&quot;2023-12-16&quot;</td><td>&quot;2023_12_16&quot;</td><td>2023-12-16 20:25:00</td><td>3</td></tr><tr><td>&quot;2023-12-30&quot;</td><td>&quot;2023_12_30&quot;</td><td>2023-12-30 17:15:00</td><td>4</td></tr><tr><td>&quot;2024-01-13&quot;</td><td>&quot;2024_01_13&quot;</td><td>2024-01-13 17:25:00</td><td>5</td></tr></tbody></table></div>"
      ],
      "text/plain": [
       "shape: (5, 4)\n",
       "┌────────────┬────────────────┬─────────────────────┬──────────┐\n",
       "│ reset      ┆ reset_date_str ┆ first_ts            ┆ reset_id │\n",
       "│ ---        ┆ ---            ┆ ---                 ┆ ---      │\n",
       "│ str        ┆ str            ┆ datetime[μs]        ┆ u32      │\n",
       "╞════════════╪════════════════╪═════════════════════╪══════════╡\n",
       "│ 2023-11-18 ┆ 2023_11_18     ┆ 2023-11-19 12:30:00 ┆ 1        │\n",
       "│ 2023-12-02 ┆ 2023_12_02     ┆ 2023-12-02 19:10:00 ┆ 2        │\n",
       "│ 2023-12-16 ┆ 2023_12_16     ┆ 2023-12-16 20:25:00 ┆ 3        │\n",
       "│ 2023-12-30 ┆ 2023_12_30     ┆ 2023-12-30 17:15:00 ┆ 4        │\n",
       "│ 2024-01-13 ┆ 2024_01_13     ┆ 2024-01-13 17:25:00 ┆ 5        │\n",
       "└────────────┴────────────────┴─────────────────────┴──────────┘"
      ]
     },
     "execution_count": 8,
     "metadata": {},
     "output_type": "execute_result"
    }
   ],
   "source": [
    "resets_df = df_all.select(\n",
    "    pl.col(\"reset_date\").str\n",
    "    .to_date(\"%Y_%m_%d\")\n",
    "    .dt\n",
    "    .strftime('%Y-%m-%d')\n",
    "    .alias(\"reset\"),\n",
    "    pl.col(\"reset_date\"),\n",
    "    pl.col(\"ts\")\n",
    ").group_by(\n",
    "    \"reset\", \"reset_date\"\n",
    ").agg(\n",
    "    pl.col(\"ts\").min().alias(\"first_ts\")\n",
    ").sort(\n",
    "    \"reset\", descending=False\n",
    ").with_columns(\n",
    "    reset_id = pl.col(\"reset\").cum_count()\n",
    ").rename(\n",
    "    {\"reset_date\": \"reset_date_str\"}\n",
    ")\n",
    "resets_df.head(5)"
   ]
  },
  {
   "cell_type": "code",
   "execution_count": 9,
   "id": "2acf7422-6cad-48f2-9450-2a87e6e97717",
   "metadata": {},
   "outputs": [
    {
     "data": {
      "text/html": [
       "<div><style>\n",
       ".dataframe > thead > tr,\n",
       ".dataframe > tbody > tr {\n",
       "  text-align: right;\n",
       "  white-space: pre-wrap;\n",
       "}\n",
       "</style>\n",
       "<small>shape: (5, 5)</small><table border=\"1\" class=\"dataframe\"><thead><tr><th>reset</th><th>jump_gate_waypoint_symbol</th><th>reset_date_str</th><th>reset_id</th><th>id</th></tr><tr><td>str</td><td>str</td><td>str</td><td>u32</td><td>u32</td></tr></thead><tbody><tr><td>&quot;2023-11-18&quot;</td><td>&quot;X1-SU26-I50&quot;</td><td>&quot;2023_11_18&quot;</td><td>1</td><td>1</td></tr><tr><td>&quot;2023-11-18&quot;</td><td>&quot;X1-CG50-I57&quot;</td><td>&quot;2023_11_18&quot;</td><td>1</td><td>2</td></tr><tr><td>&quot;2023-11-18&quot;</td><td>&quot;X1-RK11-I57&quot;</td><td>&quot;2023_11_18&quot;</td><td>1</td><td>3</td></tr><tr><td>&quot;2023-11-18&quot;</td><td>&quot;X1-AJ54-I55&quot;</td><td>&quot;2023_11_18&quot;</td><td>1</td><td>4</td></tr><tr><td>&quot;2023-11-18&quot;</td><td>&quot;X1-NX67-I52&quot;</td><td>&quot;2023_11_18&quot;</td><td>1</td><td>5</td></tr></tbody></table></div>"
      ],
      "text/plain": [
       "shape: (5, 5)\n",
       "┌────────────┬───────────────────────────┬────────────────┬──────────┬─────┐\n",
       "│ reset      ┆ jump_gate_waypoint_symbol ┆ reset_date_str ┆ reset_id ┆ id  │\n",
       "│ ---        ┆ ---                       ┆ ---            ┆ ---      ┆ --- │\n",
       "│ str        ┆ str                       ┆ str            ┆ u32      ┆ u32 │\n",
       "╞════════════╪═══════════════════════════╪════════════════╪══════════╪═════╡\n",
       "│ 2023-11-18 ┆ X1-SU26-I50               ┆ 2023_11_18     ┆ 1        ┆ 1   │\n",
       "│ 2023-11-18 ┆ X1-CG50-I57               ┆ 2023_11_18     ┆ 1        ┆ 2   │\n",
       "│ 2023-11-18 ┆ X1-RK11-I57               ┆ 2023_11_18     ┆ 1        ┆ 3   │\n",
       "│ 2023-11-18 ┆ X1-AJ54-I55               ┆ 2023_11_18     ┆ 1        ┆ 4   │\n",
       "│ 2023-11-18 ┆ X1-NX67-I52               ┆ 2023_11_18     ┆ 1        ┆ 5   │\n",
       "└────────────┴───────────────────────────┴────────────────┴──────────┴─────┘"
      ]
     },
     "execution_count": 9,
     "metadata": {},
     "output_type": "execute_result"
    }
   ],
   "source": [
    "construction_site_df = df_all.select(\n",
    "    pl.col(\"reset_date\")\n",
    "    .str\n",
    "    .to_date(\"%Y_%m_%d\")\n",
    "    .dt\n",
    "    .strftime('%Y-%m-%d')\n",
    "    .alias(\"reset\"),\n",
    "    pl.col(\"jump_gate_waypoint_symbol\")\n",
    ").unique(\n",
    "    \n",
    ").join(\n",
    "    resets_df, on=\"reset\"\n",
    ").with_columns(\n",
    "    id = pl.col(\"reset\").cum_count()\n",
    ").drop(\n",
    "    \"first_ts\"\n",
    ")\n",
    "construction_site_df.head(5)"
   ]
  },
  {
   "cell_type": "code",
   "execution_count": 10,
   "id": "02230a52-0c58-4482-ae5c-b8f2697e3598",
   "metadata": {},
   "outputs": [
    {
     "data": {
      "text/html": [
       "<div><style>\n",
       ".dataframe > thead > tr,\n",
       ".dataframe > tbody > tr {\n",
       "  text-align: right;\n",
       "  white-space: pre-wrap;\n",
       "}\n",
       "</style>\n",
       "<small>shape: (5, 6)</small><table border=\"1\" class=\"dataframe\"><thead><tr><th>reset_date</th><th>required</th><th>trade_symbol</th><th>reset</th><th>reset_id</th><th>id</th></tr><tr><td>str</td><td>i64</td><td>str</td><td>str</td><td>u32</td><td>u32</td></tr></thead><tbody><tr><td>&quot;2024_04_09&quot;</td><td>4000</td><td>&quot;FAB_MATS&quot;</td><td>&quot;2024-04-09&quot;</td><td>11</td><td>1</td></tr><tr><td>&quot;2024_04_09&quot;</td><td>1200</td><td>&quot;ADVANCED_CIRCU…</td><td>&quot;2024-04-09&quot;</td><td>11</td><td>2</td></tr><tr><td>&quot;2024_04_09&quot;</td><td>1</td><td>&quot;QUANTUM_STABIL…</td><td>&quot;2024-04-09&quot;</td><td>11</td><td>3</td></tr><tr><td>&quot;2024_03_10&quot;</td><td>4000</td><td>&quot;FAB_MATS&quot;</td><td>&quot;2024-03-10&quot;</td><td>9</td><td>4</td></tr><tr><td>&quot;2024_03_10&quot;</td><td>1200</td><td>&quot;ADVANCED_CIRCU…</td><td>&quot;2024-03-10&quot;</td><td>9</td><td>5</td></tr></tbody></table></div>"
      ],
      "text/plain": [
       "shape: (5, 6)\n",
       "┌────────────┬──────────┬─────────────────────┬────────────┬──────────┬─────┐\n",
       "│ reset_date ┆ required ┆ trade_symbol        ┆ reset      ┆ reset_id ┆ id  │\n",
       "│ ---        ┆ ---      ┆ ---                 ┆ ---        ┆ ---      ┆ --- │\n",
       "│ str        ┆ i64      ┆ str                 ┆ str        ┆ u32      ┆ u32 │\n",
       "╞════════════╪══════════╪═════════════════════╪════════════╪══════════╪═════╡\n",
       "│ 2024_04_09 ┆ 4000     ┆ FAB_MATS            ┆ 2024-04-09 ┆ 11       ┆ 1   │\n",
       "│ 2024_04_09 ┆ 1200     ┆ ADVANCED_CIRCUITRY  ┆ 2024-04-09 ┆ 11       ┆ 2   │\n",
       "│ 2024_04_09 ┆ 1        ┆ QUANTUM_STABILIZERS ┆ 2024-04-09 ┆ 11       ┆ 3   │\n",
       "│ 2024_03_10 ┆ 4000     ┆ FAB_MATS            ┆ 2024-03-10 ┆ 9        ┆ 4   │\n",
       "│ 2024_03_10 ┆ 1200     ┆ ADVANCED_CIRCUITRY  ┆ 2024-03-10 ┆ 9        ┆ 5   │\n",
       "└────────────┴──────────┴─────────────────────┴────────────┴──────────┴─────┘"
      ]
     },
     "execution_count": 10,
     "metadata": {},
     "output_type": "execute_result"
    }
   ],
   "source": [
    "construction_requirement_df = df_all.group_by(\n",
    "    pl.col(\"reset_date\")\n",
    ").agg(\n",
    "    pl.col(\"construction_json\").last().struct.field(\"materials\").alias(\"materials\")  # there was an error in one of the resets with the advanced circuits which was fixed during the reset\n",
    ").explode(\n",
    "    \"materials\"\n",
    ").unnest(\n",
    "    \"materials\"\n",
    ").rename(\n",
    "    {\"tradeSymbol\": \"trade_symbol\"}\n",
    ").join(\n",
    "    resets_df, left_on=\"reset_date\", right_on=\"reset_date_str\"\n",
    ").drop(\n",
    "    \"fulfilled\", \"first_ts\"\n",
    ").with_columns(\n",
    "    id = pl.col(\"reset\").cum_count()\n",
    ")\n",
    "\n",
    "construction_requirement_df.head(5)"
   ]
  },
  {
   "cell_type": "code",
   "execution_count": 11,
   "id": "5c84f4f9-bf6f-4c40-afd4-e7ade2bd40c0",
   "metadata": {},
   "outputs": [
    {
     "data": {
      "text/html": [
       "<div><style>\n",
       ".dataframe > thead > tr,\n",
       ".dataframe > tbody > tr {\n",
       "  text-align: right;\n",
       "  white-space: pre-wrap;\n",
       "}\n",
       "</style>\n",
       "<small>shape: (5, 7)</small><table border=\"1\" class=\"dataframe\"><thead><tr><th>agent_symbol</th><th>agent_headquarters_waypoint_symbol</th><th>jump_gate_waypoint_symbol</th><th>query_time</th><th>reset_id</th><th>construction_site_id</th><th>id</th></tr><tr><td>str</td><td>str</td><td>str</td><td>datetime[μs]</td><td>u32</td><td>u32</td><td>u32</td></tr></thead><tbody><tr><td>&quot;SNAKESINSPACE&quot;</td><td>&quot;X1-C6-A1&quot;</td><td>&quot;X1-C6-I51&quot;</td><td>2024-04-09 15:40:00</td><td>11</td><td>226</td><td>1</td></tr><tr><td>&quot;DAGON&quot;</td><td>&quot;X1-UH16-A1&quot;</td><td>&quot;X1-UH16-I57&quot;</td><td>2024-05-19 21:00:00</td><td>13</td><td>39</td><td>2</td></tr><tr><td>&quot;SG-1-DEVX&quot;</td><td>&quot;X1-DY5-A1&quot;</td><td>&quot;X1-DY5-I58&quot;</td><td>2023-12-02 20:10:00</td><td>2</td><td>146</td><td>3</td></tr><tr><td>&quot;A8RB4R&quot;</td><td>&quot;X1-RH52-A1&quot;</td><td>&quot;X1-RH52-I56&quot;</td><td>2024-02-25 19:05:00</td><td>8</td><td>123</td><td>4</td></tr><tr><td>&quot;TEX443&quot;</td><td>&quot;X1-BK66-A1&quot;</td><td>&quot;X1-BK66-I53&quot;</td><td>2024-01-15 15:05:00</td><td>5</td><td>13</td><td>5</td></tr></tbody></table></div>"
      ],
      "text/plain": [
       "shape: (5, 7)\n",
       "┌───────────────┬────────────────┬────────────────┬───────────────┬──────────┬───────────────┬─────┐\n",
       "│ agent_symbol  ┆ agent_headquar ┆ jump_gate_wayp ┆ query_time    ┆ reset_id ┆ construction_ ┆ id  │\n",
       "│ ---           ┆ ters_waypoint_ ┆ oint_symbol    ┆ ---           ┆ ---      ┆ site_id       ┆ --- │\n",
       "│ str           ┆ symb…          ┆ ---            ┆ datetime[μs]  ┆ u32      ┆ ---           ┆ u32 │\n",
       "│               ┆ ---            ┆ str            ┆               ┆          ┆ u32           ┆     │\n",
       "│               ┆ str            ┆                ┆               ┆          ┆               ┆     │\n",
       "╞═══════════════╪════════════════╪════════════════╪═══════════════╪══════════╪═══════════════╪═════╡\n",
       "│ SNAKESINSPACE ┆ X1-C6-A1       ┆ X1-C6-I51      ┆ 2024-04-09    ┆ 11       ┆ 226           ┆ 1   │\n",
       "│               ┆                ┆                ┆ 15:40:00      ┆          ┆               ┆     │\n",
       "│ DAGON         ┆ X1-UH16-A1     ┆ X1-UH16-I57    ┆ 2024-05-19    ┆ 13       ┆ 39            ┆ 2   │\n",
       "│               ┆                ┆                ┆ 21:00:00      ┆          ┆               ┆     │\n",
       "│ SG-1-DEVX     ┆ X1-DY5-A1      ┆ X1-DY5-I58     ┆ 2023-12-02    ┆ 2        ┆ 146           ┆ 3   │\n",
       "│               ┆                ┆                ┆ 20:10:00      ┆          ┆               ┆     │\n",
       "│ A8RB4R        ┆ X1-RH52-A1     ┆ X1-RH52-I56    ┆ 2024-02-25    ┆ 8        ┆ 123           ┆ 4   │\n",
       "│               ┆                ┆                ┆ 19:05:00      ┆          ┆               ┆     │\n",
       "│ TEX443        ┆ X1-BK66-A1     ┆ X1-BK66-I53    ┆ 2024-01-15    ┆ 5        ┆ 13            ┆ 5   │\n",
       "│               ┆                ┆                ┆ 15:05:00      ┆          ┆               ┆     │\n",
       "└───────────────┴────────────────┴────────────────┴───────────────┴──────────┴───────────────┴─────┘"
      ]
     },
     "execution_count": 11,
     "metadata": {},
     "output_type": "execute_result"
    }
   ],
   "source": [
    "static_agent_info_df = df_all.group_by(\n",
    "    pl.col(\"reset_date\", \"agent_symbol\")\n",
    ").agg(\n",
    "    pl.col(\"headquarters_waypoint_symbol\").first(),\n",
    "    pl.col(\"jump_gate_waypoint_symbol\").first(),\n",
    "    pl.col(\"ts\").min(),\n",
    ").join(\n",
    "    resets_df, left_on=\"reset_date\", right_on=\"reset_date_str\"\n",
    ").drop(\n",
    "    \"first_ts\"\n",
    ").join(\n",
    "    construction_site_df.rename({\"id\": \"construction_site_id\"}), left_on=[\"reset_id\", \"jump_gate_waypoint_symbol\"], right_on=[\"reset_id\", \"jump_gate_waypoint_symbol\"]\n",
    ").with_columns(\n",
    "    id = pl.col(\"reset\").cum_count()\n",
    ").rename(\n",
    "    {\"ts\": \"query_time\",\n",
    "    \"headquarters_waypoint_symbol\": \"agent_headquarters_waypoint_symbol\"}\n",
    ").drop(\n",
    "    \"reset_date\",\"reset_date_str\", \"reset\", \"reset_right\", \"first_ts\"\n",
    ")\n",
    "static_agent_info_df.head(5)"
   ]
  },
  {
   "cell_type": "code",
   "execution_count": 12,
   "id": "b03f497b-df77-4f6d-b183-afdf5283a514",
   "metadata": {},
   "outputs": [
    {
     "data": {
      "text/html": [
       "<div><style>\n",
       ".dataframe > thead > tr,\n",
       ".dataframe > tbody > tr {\n",
       "  text-align: right;\n",
       "  white-space: pre-wrap;\n",
       "}\n",
       "</style>\n",
       "<small>shape: (5, 7)</small><table border=\"1\" class=\"dataframe\"><thead><tr><th>reset_date</th><th>query_time</th><th>id</th><th>reset</th><th>first_ts</th><th>reset_id</th><th>event_time_minutes</th></tr><tr><td>str</td><td>datetime[μs]</td><td>u32</td><td>str</td><td>datetime[μs]</td><td>u32</td><td>i64</td></tr></thead><tbody><tr><td>&quot;2023_11_18&quot;</td><td>2023-11-19 14:10:00</td><td>1</td><td>&quot;2023-11-18&quot;</td><td>2023-11-19 12:30:00</td><td>1</td><td>100</td></tr><tr><td>&quot;2023_11_18&quot;</td><td>2023-11-19 15:50:00</td><td>2</td><td>&quot;2023-11-18&quot;</td><td>2023-11-19 12:30:00</td><td>1</td><td>200</td></tr><tr><td>&quot;2023_11_18&quot;</td><td>2023-11-19 16:34:59</td><td>3</td><td>&quot;2023-11-18&quot;</td><td>2023-11-19 12:30:00</td><td>1</td><td>244</td></tr><tr><td>&quot;2023_11_18&quot;</td><td>2023-11-19 16:40:00</td><td>4</td><td>&quot;2023-11-18&quot;</td><td>2023-11-19 12:30:00</td><td>1</td><td>250</td></tr><tr><td>&quot;2023_11_18&quot;</td><td>2023-11-19 16:55:00</td><td>5</td><td>&quot;2023-11-18&quot;</td><td>2023-11-19 12:30:00</td><td>1</td><td>265</td></tr></tbody></table></div>"
      ],
      "text/plain": [
       "shape: (5, 7)\n",
       "┌────────────┬──────────────┬─────┬────────────┬──────────────┬──────────┬────────────────────┐\n",
       "│ reset_date ┆ query_time   ┆ id  ┆ reset      ┆ first_ts     ┆ reset_id ┆ event_time_minutes │\n",
       "│ ---        ┆ ---          ┆ --- ┆ ---        ┆ ---          ┆ ---      ┆ ---                │\n",
       "│ str        ┆ datetime[μs] ┆ u32 ┆ str        ┆ datetime[μs] ┆ u32      ┆ i64                │\n",
       "╞════════════╪══════════════╪═════╪════════════╪══════════════╪══════════╪════════════════════╡\n",
       "│ 2023_11_18 ┆ 2023-11-19   ┆ 1   ┆ 2023-11-18 ┆ 2023-11-19   ┆ 1        ┆ 100                │\n",
       "│            ┆ 14:10:00     ┆     ┆            ┆ 12:30:00     ┆          ┆                    │\n",
       "│ 2023_11_18 ┆ 2023-11-19   ┆ 2   ┆ 2023-11-18 ┆ 2023-11-19   ┆ 1        ┆ 200                │\n",
       "│            ┆ 15:50:00     ┆     ┆            ┆ 12:30:00     ┆          ┆                    │\n",
       "│ 2023_11_18 ┆ 2023-11-19   ┆ 3   ┆ 2023-11-18 ┆ 2023-11-19   ┆ 1        ┆ 244                │\n",
       "│            ┆ 16:34:59     ┆     ┆            ┆ 12:30:00     ┆          ┆                    │\n",
       "│ 2023_11_18 ┆ 2023-11-19   ┆ 4   ┆ 2023-11-18 ┆ 2023-11-19   ┆ 1        ┆ 250                │\n",
       "│            ┆ 16:40:00     ┆     ┆            ┆ 12:30:00     ┆          ┆                    │\n",
       "│ 2023_11_18 ┆ 2023-11-19   ┆ 5   ┆ 2023-11-18 ┆ 2023-11-19   ┆ 1        ┆ 265                │\n",
       "│            ┆ 16:55:00     ┆     ┆            ┆ 12:30:00     ┆          ┆                    │\n",
       "└────────────┴──────────────┴─────┴────────────┴──────────────┴──────────┴────────────────────┘"
      ]
     },
     "execution_count": 12,
     "metadata": {},
     "output_type": "execute_result"
    }
   ],
   "source": [
    "job_run_df = df_all.select(\n",
    "    pl.col(\"reset_date\"),\n",
    "    pl.col(\"ts\").alias(\"query_time\")\n",
    ").unique(\n",
    ").with_columns(\n",
    "    id = pl.col(\"reset_date\").cum_count()\n",
    ").join(\n",
    "    resets_df, left_on=\"reset_date\", right_on=\"reset_date_str\"\n",
    ").with_columns(\n",
    "    event_time_minutes = (pl.col(\"query_time\") - pl.col(\"first_ts\")).dt.total_minutes()\n",
    ")\n",
    "job_run_df.head(5)"
   ]
  },
  {
   "cell_type": "code",
   "execution_count": 13,
   "id": "f755b953-324c-48d3-b4b4-bef3e9b1efd1",
   "metadata": {},
   "outputs": [
    {
     "data": {
      "text/html": [
       "<div><style>\n",
       ".dataframe > thead > tr,\n",
       ".dataframe > tbody > tr {\n",
       "  text-align: right;\n",
       "  white-space: pre-wrap;\n",
       "}\n",
       "</style>\n",
       "<small>shape: (5, 15)</small><table border=\"1\" class=\"dataframe\"><thead><tr><th>query_time</th><th>agent_symbol</th><th>credits</th><th>ship_count</th><th>construction_json</th><th>reset_id</th><th>agent_headquarters_waypoint_symbol</th><th>jump_gate_waypoint_symbol</th><th>construction_site_id</th><th>agent_id</th><th>reset_date</th><th>job_id</th><th>reset</th><th>first_ts</th><th>event_time_minutes</th></tr><tr><td>datetime[μs]</td><td>str</td><td>i64</td><td>i64</td><td>struct[3]</td><td>u32</td><td>str</td><td>str</td><td>u32</td><td>u32</td><td>str</td><td>u32</td><td>str</td><td>datetime[μs]</td><td>i64</td></tr></thead><tbody><tr><td>2023-11-19 12:30:00</td><td>&quot;XOYCHTE&quot;</td><td>175000</td><td>2</td><td>{false,[{0,6000,&quot;FAB_MATS&quot;}, {500,0,&quot;ADVANCED_CIRCUITRY&quot;}, {1,1,&quot;QUANTUM_STABILIZERS&quot;}],&quot;X1-XZ50-I54&quot;}</td><td>1</td><td>&quot;X1-XZ50-A1&quot;</td><td>&quot;X1-XZ50-I54&quot;</td><td>178</td><td>512</td><td>&quot;2023_11_18&quot;</td><td>51196</td><td>&quot;2023-11-18&quot;</td><td>2023-11-19 12:30:00</td><td>0</td></tr><tr><td>2023-11-19 12:30:00</td><td>&quot;TVTVTG4&quot;</td><td>175000</td><td>2</td><td>{false,[{0,6000,&quot;FAB_MATS&quot;}, {500,0,&quot;ADVANCED_CIRCUITRY&quot;}, {1,1,&quot;QUANTUM_STABILIZERS&quot;}],&quot;X1-PU57-I59&quot;}</td><td>1</td><td>&quot;X1-PU57-A1&quot;</td><td>&quot;X1-PU57-I59&quot;</td><td>360</td><td>449</td><td>&quot;2023_11_18&quot;</td><td>51196</td><td>&quot;2023-11-18&quot;</td><td>2023-11-19 12:30:00</td><td>0</td></tr><tr><td>2023-11-19 12:30:00</td><td>&quot;BLABLABLA&quot;</td><td>175749</td><td>2</td><td>{false,[{0,6000,&quot;FAB_MATS&quot;}, {500,0,&quot;ADVANCED_CIRCUITRY&quot;}, {1,1,&quot;QUANTUM_STABILIZERS&quot;}],&quot;X1-FV87-I58&quot;}</td><td>1</td><td>&quot;X1-FV87-A1&quot;</td><td>&quot;X1-FV87-I58&quot;</td><td>361</td><td>61</td><td>&quot;2023_11_18&quot;</td><td>51196</td><td>&quot;2023-11-18&quot;</td><td>2023-11-19 12:30:00</td><td>0</td></tr><tr><td>2023-11-19 12:30:00</td><td>&quot;BOOZE2&quot;</td><td>175000</td><td>2</td><td>{false,[{0,6000,&quot;FAB_MATS&quot;}, {500,0,&quot;ADVANCED_CIRCUITRY&quot;}, {1,1,&quot;QUANTUM_STABILIZERS&quot;}],&quot;X1-SK36-I63&quot;}</td><td>1</td><td>&quot;X1-SK36-A1&quot;</td><td>&quot;X1-SK36-I63&quot;</td><td>236</td><td>60</td><td>&quot;2023_11_18&quot;</td><td>51196</td><td>&quot;2023-11-18&quot;</td><td>2023-11-19 12:30:00</td><td>0</td></tr><tr><td>2023-11-19 12:30:00</td><td>&quot;ESEMUSA&quot;</td><td>175600</td><td>2</td><td>{false,[{0,6000,&quot;FAB_MATS&quot;}, {500,0,&quot;ADVANCED_CIRCUITRY&quot;}, {1,1,&quot;QUANTUM_STABILIZERS&quot;}],&quot;X1-XZ50-I54&quot;}</td><td>1</td><td>&quot;X1-XZ50-A1&quot;</td><td>&quot;X1-XZ50-I54&quot;</td><td>178</td><td>282</td><td>&quot;2023_11_18&quot;</td><td>51196</td><td>&quot;2023-11-18&quot;</td><td>2023-11-19 12:30:00</td><td>0</td></tr></tbody></table></div>"
      ],
      "text/plain": [
       "shape: (5, 15)\n",
       "┌────────────┬────────────┬─────────┬────────────┬───┬────────┬────────────┬───────────┬───────────┐\n",
       "│ query_time ┆ agent_symb ┆ credits ┆ ship_count ┆ … ┆ job_id ┆ reset      ┆ first_ts  ┆ event_tim │\n",
       "│ ---        ┆ ol         ┆ ---     ┆ ---        ┆   ┆ ---    ┆ ---        ┆ ---       ┆ e_minutes │\n",
       "│ datetime[μ ┆ ---        ┆ i64     ┆ i64        ┆   ┆ u32    ┆ str        ┆ datetime[ ┆ ---       │\n",
       "│ s]         ┆ str        ┆         ┆            ┆   ┆        ┆            ┆ μs]       ┆ i64       │\n",
       "╞════════════╪════════════╪═════════╪════════════╪═══╪════════╪════════════╪═══════════╪═══════════╡\n",
       "│ 2023-11-19 ┆ XOYCHTE    ┆ 175000  ┆ 2          ┆ … ┆ 51196  ┆ 2023-11-18 ┆ 2023-11-1 ┆ 0         │\n",
       "│ 12:30:00   ┆            ┆         ┆            ┆   ┆        ┆            ┆ 9         ┆           │\n",
       "│            ┆            ┆         ┆            ┆   ┆        ┆            ┆ 12:30:00  ┆           │\n",
       "│ 2023-11-19 ┆ TVTVTG4    ┆ 175000  ┆ 2          ┆ … ┆ 51196  ┆ 2023-11-18 ┆ 2023-11-1 ┆ 0         │\n",
       "│ 12:30:00   ┆            ┆         ┆            ┆   ┆        ┆            ┆ 9         ┆           │\n",
       "│            ┆            ┆         ┆            ┆   ┆        ┆            ┆ 12:30:00  ┆           │\n",
       "│ 2023-11-19 ┆ BLABLABLA  ┆ 175749  ┆ 2          ┆ … ┆ 51196  ┆ 2023-11-18 ┆ 2023-11-1 ┆ 0         │\n",
       "│ 12:30:00   ┆            ┆         ┆            ┆   ┆        ┆            ┆ 9         ┆           │\n",
       "│            ┆            ┆         ┆            ┆   ┆        ┆            ┆ 12:30:00  ┆           │\n",
       "│ 2023-11-19 ┆ BOOZE2     ┆ 175000  ┆ 2          ┆ … ┆ 51196  ┆ 2023-11-18 ┆ 2023-11-1 ┆ 0         │\n",
       "│ 12:30:00   ┆            ┆         ┆            ┆   ┆        ┆            ┆ 9         ┆           │\n",
       "│            ┆            ┆         ┆            ┆   ┆        ┆            ┆ 12:30:00  ┆           │\n",
       "│ 2023-11-19 ┆ ESEMUSA    ┆ 175600  ┆ 2          ┆ … ┆ 51196  ┆ 2023-11-18 ┆ 2023-11-1 ┆ 0         │\n",
       "│ 12:30:00   ┆            ┆         ┆            ┆   ┆        ┆            ┆ 9         ┆           │\n",
       "│            ┆            ┆         ┆            ┆   ┆        ┆            ┆ 12:30:00  ┆           │\n",
       "└────────────┴────────────┴─────────┴────────────┴───┴────────┴────────────┴───────────┴───────────┘"
      ]
     },
     "execution_count": 13,
     "metadata": {},
     "output_type": "execute_result"
    }
   ],
   "source": [
    "agent_log_df = df_all.select(\n",
    "    \"ts\", \"reset_date\", \"agent_symbol\", \"credits\", \"ship_count\", \"construction_json\"\n",
    ").join(\n",
    "    resets_df, left_on=\"reset_date\", right_on=\"reset_date_str\", suffix=\"_reset\"\n",
    ").drop(\n",
    "    \"reset_date\", \"reset\", \"first_ts\"\n",
    ").join(\n",
    "    static_agent_info_df, on=[\"reset_id\", \"agent_symbol\"], suffix=\"_static_agent_info\"\n",
    ").drop(\n",
    "    \"query_time\", \"first_ts\"\n",
    ").rename(\n",
    "    {\"id\": \"agent_id\",\n",
    "    \"ts\": \"query_time\"}\n",
    ").join(\n",
    "    job_run_df, on=[\"reset_id\", \"query_time\"], suffix=\"_static_agent_info\"\n",
    ").rename(\n",
    "    {\"id\": \"job_id\"}\n",
    ")\n",
    "\n",
    "agent_log_df.head(5)"
   ]
  },
  {
   "cell_type": "code",
   "execution_count": 14,
   "id": "b7ca86df-d02e-4e7e-9a98-02f3891e3c36",
   "metadata": {},
   "outputs": [
    {
     "data": {
      "text/html": [
       "<div><style>\n",
       ".dataframe > thead > tr,\n",
       ".dataframe > tbody > tr {\n",
       "  text-align: right;\n",
       "  white-space: pre-wrap;\n",
       "}\n",
       "</style>\n",
       "<small>shape: (5, 8)</small><table border=\"1\" class=\"dataframe\"><thead><tr><th>jump_gate_waypoint_symbol</th><th>is_complete</th><th>materials</th><th>job_id</th><th>reset_id</th><th>reset</th><th>reset_date_str</th><th>construction_site_id</th></tr><tr><td>str</td><td>bool</td><td>list[struct[3]]</td><td>u32</td><td>u32</td><td>str</td><td>str</td><td>u32</td></tr></thead><tbody><tr><td>&quot;X1-XZ50-I54&quot;</td><td>false</td><td>[{0,6000,&quot;FAB_MATS&quot;}, {500,0,&quot;ADVANCED_CIRCUITRY&quot;}, {1,1,&quot;QUANTUM_STABILIZERS&quot;}]</td><td>51196</td><td>1</td><td>&quot;2023-11-18&quot;</td><td>&quot;2023_11_18&quot;</td><td>178</td></tr><tr><td>&quot;X1-PU57-I59&quot;</td><td>false</td><td>[{0,6000,&quot;FAB_MATS&quot;}, {500,0,&quot;ADVANCED_CIRCUITRY&quot;}, {1,1,&quot;QUANTUM_STABILIZERS&quot;}]</td><td>51196</td><td>1</td><td>&quot;2023-11-18&quot;</td><td>&quot;2023_11_18&quot;</td><td>360</td></tr><tr><td>&quot;X1-FV87-I58&quot;</td><td>false</td><td>[{0,6000,&quot;FAB_MATS&quot;}, {500,0,&quot;ADVANCED_CIRCUITRY&quot;}, {1,1,&quot;QUANTUM_STABILIZERS&quot;}]</td><td>51196</td><td>1</td><td>&quot;2023-11-18&quot;</td><td>&quot;2023_11_18&quot;</td><td>361</td></tr><tr><td>&quot;X1-SK36-I63&quot;</td><td>false</td><td>[{0,6000,&quot;FAB_MATS&quot;}, {500,0,&quot;ADVANCED_CIRCUITRY&quot;}, {1,1,&quot;QUANTUM_STABILIZERS&quot;}]</td><td>51196</td><td>1</td><td>&quot;2023-11-18&quot;</td><td>&quot;2023_11_18&quot;</td><td>236</td></tr><tr><td>&quot;X1-XZ50-I54&quot;</td><td>false</td><td>[{0,6000,&quot;FAB_MATS&quot;}, {500,0,&quot;ADVANCED_CIRCUITRY&quot;}, {1,1,&quot;QUANTUM_STABILIZERS&quot;}]</td><td>51196</td><td>1</td><td>&quot;2023-11-18&quot;</td><td>&quot;2023_11_18&quot;</td><td>178</td></tr></tbody></table></div>"
      ],
      "text/plain": [
       "shape: (5, 8)\n",
       "┌─────────────┬────────────┬────────────┬────────┬──────────┬────────────┬────────────┬────────────┐\n",
       "│ jump_gate_w ┆ is_complet ┆ materials  ┆ job_id ┆ reset_id ┆ reset      ┆ reset_date ┆ constructi │\n",
       "│ aypoint_sym ┆ e          ┆ ---        ┆ ---    ┆ ---      ┆ ---        ┆ _str       ┆ on_site_id │\n",
       "│ bol         ┆ ---        ┆ list[struc ┆ u32    ┆ u32      ┆ str        ┆ ---        ┆ ---        │\n",
       "│ ---         ┆ bool       ┆ t[3]]      ┆        ┆          ┆            ┆ str        ┆ u32        │\n",
       "│ str         ┆            ┆            ┆        ┆          ┆            ┆            ┆            │\n",
       "╞═════════════╪════════════╪════════════╪════════╪══════════╪════════════╪════════════╪════════════╡\n",
       "│ X1-XZ50-I54 ┆ false      ┆ [{0,6000,\" ┆ 51196  ┆ 1        ┆ 2023-11-18 ┆ 2023_11_18 ┆ 178        │\n",
       "│             ┆            ┆ FAB_MATS\"} ┆        ┆          ┆            ┆            ┆            │\n",
       "│             ┆            ┆ , {500,0,\" ┆        ┆          ┆            ┆            ┆            │\n",
       "│             ┆            ┆ AD…        ┆        ┆          ┆            ┆            ┆            │\n",
       "│ X1-PU57-I59 ┆ false      ┆ [{0,6000,\" ┆ 51196  ┆ 1        ┆ 2023-11-18 ┆ 2023_11_18 ┆ 360        │\n",
       "│             ┆            ┆ FAB_MATS\"} ┆        ┆          ┆            ┆            ┆            │\n",
       "│             ┆            ┆ , {500,0,\" ┆        ┆          ┆            ┆            ┆            │\n",
       "│             ┆            ┆ AD…        ┆        ┆          ┆            ┆            ┆            │\n",
       "│ X1-FV87-I58 ┆ false      ┆ [{0,6000,\" ┆ 51196  ┆ 1        ┆ 2023-11-18 ┆ 2023_11_18 ┆ 361        │\n",
       "│             ┆            ┆ FAB_MATS\"} ┆        ┆          ┆            ┆            ┆            │\n",
       "│             ┆            ┆ , {500,0,\" ┆        ┆          ┆            ┆            ┆            │\n",
       "│             ┆            ┆ AD…        ┆        ┆          ┆            ┆            ┆            │\n",
       "│ X1-SK36-I63 ┆ false      ┆ [{0,6000,\" ┆ 51196  ┆ 1        ┆ 2023-11-18 ┆ 2023_11_18 ┆ 236        │\n",
       "│             ┆            ┆ FAB_MATS\"} ┆        ┆          ┆            ┆            ┆            │\n",
       "│             ┆            ┆ , {500,0,\" ┆        ┆          ┆            ┆            ┆            │\n",
       "│             ┆            ┆ AD…        ┆        ┆          ┆            ┆            ┆            │\n",
       "│ X1-XZ50-I54 ┆ false      ┆ [{0,6000,\" ┆ 51196  ┆ 1        ┆ 2023-11-18 ┆ 2023_11_18 ┆ 178        │\n",
       "│             ┆            ┆ FAB_MATS\"} ┆        ┆          ┆            ┆            ┆            │\n",
       "│             ┆            ┆ , {500,0,\" ┆        ┆          ┆            ┆            ┆            │\n",
       "│             ┆            ┆ AD…        ┆        ┆          ┆            ┆            ┆            │\n",
       "└─────────────┴────────────┴────────────┴────────┴──────────┴────────────┴────────────┴────────────┘"
      ]
     },
     "execution_count": 14,
     "metadata": {},
     "output_type": "execute_result"
    }
   ],
   "source": [
    "construction_details_df = agent_log_df.select(\n",
    "    pl.col(\"jump_gate_waypoint_symbol\"),\n",
    "    pl.col(\"construction_json\").struct.field(\"isComplete\").alias(\"is_complete\"),\n",
    "    pl.col(\"construction_json\").struct.field(\"materials\"),\n",
    "    pl.col(\"job_id\"),\n",
    "    pl.col(\"reset_id\")\n",
    ").join(\n",
    "    construction_site_df, on=['reset_id', 'jump_gate_waypoint_symbol']\n",
    ").rename(\n",
    "    {\"id\": \"construction_site_id\"}\n",
    ")\n",
    "\n",
    "construction_details_df.head(5)"
   ]
  },
  {
   "cell_type": "code",
   "execution_count": 15,
   "id": "b2bb9bfb-2bcc-40e7-8207-f7705a5b1286",
   "metadata": {},
   "outputs": [
    {
     "data": {
      "text/html": [
       "<div><style>\n",
       ".dataframe > thead > tr,\n",
       ".dataframe > tbody > tr {\n",
       "  text-align: right;\n",
       "  white-space: pre-wrap;\n",
       "}\n",
       "</style>\n",
       "<small>shape: (5, 8)</small><table border=\"1\" class=\"dataframe\"><thead><tr><th>jump_gate_waypoint_symbol</th><th>is_complete</th><th>job_id</th><th>reset_id</th><th>reset</th><th>reset_date_str</th><th>construction_site_id</th><th>id</th></tr><tr><td>str</td><td>bool</td><td>u32</td><td>u32</td><td>str</td><td>str</td><td>u32</td><td>u32</td></tr></thead><tbody><tr><td>&quot;X1-PU57-I59&quot;</td><td>false</td><td>51196</td><td>1</td><td>&quot;2023-11-18&quot;</td><td>&quot;2023_11_18&quot;</td><td>360</td><td>1</td></tr><tr><td>&quot;X1-SU26-I50&quot;</td><td>false</td><td>51196</td><td>1</td><td>&quot;2023-11-18&quot;</td><td>&quot;2023_11_18&quot;</td><td>1</td><td>2</td></tr><tr><td>&quot;X1-XD26-I60&quot;</td><td>false</td><td>17195</td><td>1</td><td>&quot;2023-11-18&quot;</td><td>&quot;2023_11_18&quot;</td><td>141</td><td>3</td></tr><tr><td>&quot;X1-JS84-I55&quot;</td><td>false</td><td>17196</td><td>1</td><td>&quot;2023-11-18&quot;</td><td>&quot;2023_11_18&quot;</td><td>102</td><td>4</td></tr><tr><td>&quot;X1-UJ41-I59&quot;</td><td>false</td><td>17196</td><td>1</td><td>&quot;2023-11-18&quot;</td><td>&quot;2023_11_18&quot;</td><td>395</td><td>5</td></tr></tbody></table></div>"
      ],
      "text/plain": [
       "shape: (5, 8)\n",
       "┌───────────────┬─────────────┬────────┬──────────┬────────────┬──────────────┬──────────────┬─────┐\n",
       "│ jump_gate_way ┆ is_complete ┆ job_id ┆ reset_id ┆ reset      ┆ reset_date_s ┆ construction ┆ id  │\n",
       "│ point_symbol  ┆ ---         ┆ ---    ┆ ---      ┆ ---        ┆ tr           ┆ _site_id     ┆ --- │\n",
       "│ ---           ┆ bool        ┆ u32    ┆ u32      ┆ str        ┆ ---          ┆ ---          ┆ u32 │\n",
       "│ str           ┆             ┆        ┆          ┆            ┆ str          ┆ u32          ┆     │\n",
       "╞═══════════════╪═════════════╪════════╪══════════╪════════════╪══════════════╪══════════════╪═════╡\n",
       "│ X1-PU57-I59   ┆ false       ┆ 51196  ┆ 1        ┆ 2023-11-18 ┆ 2023_11_18   ┆ 360          ┆ 1   │\n",
       "│ X1-SU26-I50   ┆ false       ┆ 51196  ┆ 1        ┆ 2023-11-18 ┆ 2023_11_18   ┆ 1            ┆ 2   │\n",
       "│ X1-XD26-I60   ┆ false       ┆ 17195  ┆ 1        ┆ 2023-11-18 ┆ 2023_11_18   ┆ 141          ┆ 3   │\n",
       "│ X1-JS84-I55   ┆ false       ┆ 17196  ┆ 1        ┆ 2023-11-18 ┆ 2023_11_18   ┆ 102          ┆ 4   │\n",
       "│ X1-UJ41-I59   ┆ false       ┆ 17196  ┆ 1        ┆ 2023-11-18 ┆ 2023_11_18   ┆ 395          ┆ 5   │\n",
       "└───────────────┴─────────────┴────────┴──────────┴────────────┴──────────────┴──────────────┴─────┘"
      ]
     },
     "execution_count": 15,
     "metadata": {},
     "output_type": "execute_result"
    }
   ],
   "source": [
    "construction_log_df = construction_details_df.drop(\n",
    "    \"materials\"\n",
    ").unique(\n",
    "    \n",
    ").with_columns(\n",
    "    id = pl.col(\"reset\").cum_count()\n",
    ")\n",
    "construction_log_df.head(5)"
   ]
  },
  {
   "cell_type": "code",
   "execution_count": 16,
   "id": "09b4a4c2-735f-4c47-bbb2-b2535ec615bb",
   "metadata": {},
   "outputs": [
    {
     "data": {
      "text/html": [
       "<div><style>\n",
       ".dataframe > thead > tr,\n",
       ".dataframe > tbody > tr {\n",
       "  text-align: right;\n",
       "  white-space: pre-wrap;\n",
       "}\n",
       "</style>\n",
       "<small>shape: (5, 20)</small><table border=\"1\" class=\"dataframe\"><thead><tr><th>jump_gate_waypoint_symbol</th><th>is_complete</th><th>fulfilled</th><th>required</th><th>trade_symbol</th><th>job_id</th><th>reset_id</th><th>reset</th><th>reset_date_str</th><th>construction_site_id</th><th>jump_gate_waypoint_symbol_right</th><th>is_complete_right</th><th>reset_id_right</th><th>reset_right</th><th>reset_date_str_right</th><th>construction_log_id</th><th>reset_date</th><th>required_construction_requirement</th><th>reset_construction_requirement</th><th>construction_requirement_id</th></tr><tr><td>str</td><td>bool</td><td>i64</td><td>i64</td><td>str</td><td>u32</td><td>u32</td><td>str</td><td>str</td><td>u32</td><td>str</td><td>bool</td><td>u32</td><td>str</td><td>str</td><td>u32</td><td>str</td><td>i64</td><td>str</td><td>u32</td></tr></thead><tbody><tr><td>&quot;X1-XZ50-I54&quot;</td><td>false</td><td>500</td><td>0</td><td>&quot;ADVANCED_CIRCU…</td><td>51196</td><td>1</td><td>&quot;2023-11-18&quot;</td><td>&quot;2023_11_18&quot;</td><td>178</td><td>&quot;X1-XZ50-I54&quot;</td><td>false</td><td>1</td><td>&quot;2023-11-18&quot;</td><td>&quot;2023_11_18&quot;</td><td>1422974</td><td>&quot;2023_11_18&quot;</td><td>500</td><td>&quot;2023-11-18&quot;</td><td>26</td></tr><tr><td>&quot;X1-AJ54-I55&quot;</td><td>false</td><td>0</td><td>6000</td><td>&quot;FAB_MATS&quot;</td><td>51196</td><td>1</td><td>&quot;2023-11-18&quot;</td><td>&quot;2023_11_18&quot;</td><td>4</td><td>&quot;X1-AJ54-I55&quot;</td><td>false</td><td>1</td><td>&quot;2023-11-18&quot;</td><td>&quot;2023_11_18&quot;</td><td>712271</td><td>&quot;2023_11_18&quot;</td><td>6000</td><td>&quot;2023-11-18&quot;</td><td>25</td></tr><tr><td>&quot;X1-PR4-I57&quot;</td><td>false</td><td>1</td><td>1</td><td>&quot;QUANTUM_STABIL…</td><td>51196</td><td>1</td><td>&quot;2023-11-18&quot;</td><td>&quot;2023_11_18&quot;</td><td>140</td><td>&quot;X1-PR4-I57&quot;</td><td>false</td><td>1</td><td>&quot;2023-11-18&quot;</td><td>&quot;2023_11_18&quot;</td><td>712272</td><td>&quot;2023_11_18&quot;</td><td>1</td><td>&quot;2023-11-18&quot;</td><td>27</td></tr><tr><td>&quot;X1-JS84-I55&quot;</td><td>false</td><td>1</td><td>1</td><td>&quot;QUANTUM_STABIL…</td><td>51196</td><td>1</td><td>&quot;2023-11-18&quot;</td><td>&quot;2023_11_18&quot;</td><td>102</td><td>&quot;X1-JS84-I55&quot;</td><td>false</td><td>1</td><td>&quot;2023-11-18&quot;</td><td>&quot;2023_11_18&quot;</td><td>1067518</td><td>&quot;2023_11_18&quot;</td><td>1</td><td>&quot;2023-11-18&quot;</td><td>27</td></tr><tr><td>&quot;X1-NB26-I59&quot;</td><td>false</td><td>1</td><td>1</td><td>&quot;QUANTUM_STABIL…</td><td>17195</td><td>1</td><td>&quot;2023-11-18&quot;</td><td>&quot;2023_11_18&quot;</td><td>287</td><td>&quot;X1-NB26-I59&quot;</td><td>false</td><td>1</td><td>&quot;2023-11-18&quot;</td><td>&quot;2023_11_18&quot;</td><td>889912</td><td>&quot;2023_11_18&quot;</td><td>1</td><td>&quot;2023-11-18&quot;</td><td>27</td></tr></tbody></table></div>"
      ],
      "text/plain": [
       "shape: (5, 20)\n",
       "┌───────────┬───────────┬───────────┬──────────┬───┬───────────┬───────────┬───────────┬───────────┐\n",
       "│ jump_gate ┆ is_comple ┆ fulfilled ┆ required ┆ … ┆ reset_dat ┆ required_ ┆ reset_con ┆ construct │\n",
       "│ _waypoint ┆ te        ┆ ---       ┆ ---      ┆   ┆ e         ┆ construct ┆ struction ┆ ion_requi │\n",
       "│ _symbol   ┆ ---       ┆ i64       ┆ i64      ┆   ┆ ---       ┆ ion_requi ┆ _requirem ┆ rement_id │\n",
       "│ ---       ┆ bool      ┆           ┆          ┆   ┆ str       ┆ remen…    ┆ ent       ┆ ---       │\n",
       "│ str       ┆           ┆           ┆          ┆   ┆           ┆ ---       ┆ ---       ┆ u32       │\n",
       "│           ┆           ┆           ┆          ┆   ┆           ┆ i64       ┆ str       ┆           │\n",
       "╞═══════════╪═══════════╪═══════════╪══════════╪═══╪═══════════╪═══════════╪═══════════╪═══════════╡\n",
       "│ X1-XZ50-I ┆ false     ┆ 500       ┆ 0        ┆ … ┆ 2023_11_1 ┆ 500       ┆ 2023-11-1 ┆ 26        │\n",
       "│ 54        ┆           ┆           ┆          ┆   ┆ 8         ┆           ┆ 8         ┆           │\n",
       "│ X1-AJ54-I ┆ false     ┆ 0         ┆ 6000     ┆ … ┆ 2023_11_1 ┆ 6000      ┆ 2023-11-1 ┆ 25        │\n",
       "│ 55        ┆           ┆           ┆          ┆   ┆ 8         ┆           ┆ 8         ┆           │\n",
       "│ X1-PR4-I5 ┆ false     ┆ 1         ┆ 1        ┆ … ┆ 2023_11_1 ┆ 1         ┆ 2023-11-1 ┆ 27        │\n",
       "│ 7         ┆           ┆           ┆          ┆   ┆ 8         ┆           ┆ 8         ┆           │\n",
       "│ X1-JS84-I ┆ false     ┆ 1         ┆ 1        ┆ … ┆ 2023_11_1 ┆ 1         ┆ 2023-11-1 ┆ 27        │\n",
       "│ 55        ┆           ┆           ┆          ┆   ┆ 8         ┆           ┆ 8         ┆           │\n",
       "│ X1-NB26-I ┆ false     ┆ 1         ┆ 1        ┆ … ┆ 2023_11_1 ┆ 1         ┆ 2023-11-1 ┆ 27        │\n",
       "│ 59        ┆           ┆           ┆          ┆   ┆ 8         ┆           ┆ 8         ┆           │\n",
       "└───────────┴───────────┴───────────┴──────────┴───┴───────────┴───────────┴───────────┴───────────┘"
      ]
     },
     "execution_count": 16,
     "metadata": {},
     "output_type": "execute_result"
    }
   ],
   "source": [
    "construction_material_log_df = construction_details_df.explode(\n",
    "    \"materials\"\n",
    ").unnest(\n",
    "    \"materials\"\n",
    ").unique(\n",
    ").join(\n",
    "    construction_log_df, on=[\"construction_site_id\", \"job_id\"]\n",
    ").rename(\n",
    "    {\"id\": \"construction_log_id\", \n",
    "    \"tradeSymbol\": \"trade_symbol\"}\n",
    ").join(\n",
    "    construction_requirement_df, on=[\"reset_id\", \"trade_symbol\"], suffix=\"_construction_requirement\"\n",
    ").rename(\n",
    "    {\"id\": \"construction_requirement_id\"}\n",
    ")\n",
    "construction_material_log_df.head(5)"
   ]
  },
  {
   "cell_type": "code",
   "execution_count": 20,
   "id": "bd08b09b-7adc-4bdb-9653-22d57767ff7f",
   "metadata": {},
   "outputs": [],
   "source": [
    "db_path = \"/Users/florian_witteler/programming/rust/flwi-spacetraders-rust-leaderboard/data/flwi-leaderboard.db\"           \n",
    "db_connection_string = f\"sqlite:///{db_path}\""
   ]
  },
  {
   "cell_type": "code",
   "execution_count": 21,
   "id": "db8d4fa6-bfab-4468-bb19-99b7d739df07",
   "metadata": {},
   "outputs": [
    {
     "data": {
      "text/plain": [
       "13"
      ]
     },
     "execution_count": 21,
     "metadata": {},
     "output_type": "execute_result"
    }
   ],
   "source": [
    "resets_df.drop(\"reset_date_str\").write_database(table_name=\"reset_date\", connection=db_connection_string, if_table_exists='append')"
   ]
  },
  {
   "cell_type": "code",
   "execution_count": 22,
   "id": "67aca495-a355-40ae-8cdd-1b0de56aa6cd",
   "metadata": {},
   "outputs": [
    {
     "data": {
      "text/plain": [
       "432"
      ]
     },
     "execution_count": 22,
     "metadata": {},
     "output_type": "execute_result"
    }
   ],
   "source": [
    "construction_site_df.drop(\"reset\", \"reset_date_str\", \"first_ts\").write_database(table_name=\"construction_site\", connection=db_connection_string, if_table_exists='append')"
   ]
  },
  {
   "cell_type": "code",
   "execution_count": 23,
   "id": "00e49527-88d0-4119-95c6-a65efe040e31",
   "metadata": {},
   "outputs": [
    {
     "data": {
      "text/plain": [
       "39"
      ]
     },
     "execution_count": 23,
     "metadata": {},
     "output_type": "execute_result"
    }
   ],
   "source": [
    "construction_requirement_df.drop(\"reset\", \"reset_date\", \"first_ts\").write_database(table_name=\"construction_requirement\", connection=db_connection_string, if_table_exists='append')"
   ]
  },
  {
   "cell_type": "code",
   "execution_count": 24,
   "id": "cab40122-9f9f-439d-a52c-3bd260c1cd88",
   "metadata": {},
   "outputs": [
    {
     "data": {
      "text/plain": [
       "676"
      ]
     },
     "execution_count": 24,
     "metadata": {},
     "output_type": "execute_result"
    }
   ],
   "source": [
    "static_agent_info_df.drop(\n",
    "    \"reset_date_str\", \"jump_gate_waypoint_symbol\", \"first_ts\"\n",
    ").with_columns(\n",
    "    starting_faction = pl.lit(\"\")\n",
    ").write_database(\n",
    "    table_name=\"static_agent_info\", connection=db_connection_string, if_table_exists='append'\n",
    ")"
   ]
  },
  {
   "cell_type": "code",
   "execution_count": 25,
   "id": "c36e0c68-7f9c-486c-a842-c1ab7b3a8b4e",
   "metadata": {},
   "outputs": [
    {
     "data": {
      "text/plain": [
       "56861"
      ]
     },
     "execution_count": 25,
     "metadata": {},
     "output_type": "execute_result"
    }
   ],
   "source": [
    "job_run_df.drop(\"reset_date\", \"reset\", \"first_ts\").write_database(table_name=\"job_run\", connection=db_connection_string, if_table_exists='append')"
   ]
  },
  {
   "cell_type": "code",
   "execution_count": 26,
   "id": "66712e84-4729-40ee-ab5d-1195691d1461",
   "metadata": {},
   "outputs": [
    {
     "data": {
      "text/plain": [
       "2782651"
      ]
     },
     "execution_count": 26,
     "metadata": {},
     "output_type": "execute_result"
    }
   ],
   "source": [
    "agent_log_df.select(\n",
    "\"agent_id\",\n",
    "\"job_id\",\n",
    "\"credits\",\n",
    "\"ship_count\"\n",
    ").write_database(table_name=\"agent_log\", connection=db_connection_string, if_table_exists='append')"
   ]
  },
  {
   "cell_type": "code",
   "execution_count": 27,
   "id": "f98bfa10-84cb-4423-8fe4-fc247e257a1a",
   "metadata": {},
   "outputs": [
    {
     "data": {
      "text/plain": [
       "1778395"
      ]
     },
     "execution_count": 27,
     "metadata": {},
     "output_type": "execute_result"
    }
   ],
   "source": [
    "construction_log_df.drop(\"reset_date_str\", \"reset\", \"jump_gate_waypoint_symbol\", \"reset_id\").write_database(table_name=\"construction_log\", connection=db_connection_string, if_table_exists='append')"
   ]
  },
  {
   "cell_type": "code",
   "execution_count": 28,
   "id": "ceb6e6dd-7815-4a24-87d8-904bd12fb258",
   "metadata": {},
   "outputs": [
    {
     "data": {
      "text/plain": [
       "5335281"
      ]
     },
     "execution_count": 28,
     "metadata": {},
     "output_type": "execute_result"
    }
   ],
   "source": [
    "construction_material_log_df.select(\"construction_log_id\", \"construction_requirement_id\", \"fulfilled\").write_database(table_name=\"construction_material_log\", connection=db_connection_string, if_table_exists='append')"
   ]
  },
  {
   "cell_type": "markdown",
   "id": "87d6a228-1e64-48ce-8c9b-65cd686b3231",
   "metadata": {},
   "source": [
    "## execute `ANALYZE` to make use of all the indices"
   ]
  },
  {
   "cell_type": "code",
   "execution_count": 29,
   "id": "0c1f88b2-5954-4d73-981d-d388722cc90e",
   "metadata": {},
   "outputs": [],
   "source": [
    "import sqlite3\n",
    "con = sqlite3.connect(db_path)\n",
    "cur = con.cursor()\n",
    "cur.execute(\"ANALYZE\")\n",
    "con.close()"
   ]
  },
  {
   "cell_type": "code",
   "execution_count": null,
   "id": "7d585b32-ac53-4cac-900d-2d56a0383f79",
   "metadata": {},
   "outputs": [],
   "source": []
  }
 ],
 "metadata": {
  "kernelspec": {
   "display_name": "Python 3 (ipykernel)",
   "language": "python",
   "name": "python3"
  },
  "language_info": {
   "codemirror_mode": {
    "name": "ipython",
    "version": 3
   },
   "file_extension": ".py",
   "mimetype": "text/x-python",
   "name": "python",
   "nbconvert_exporter": "python",
   "pygments_lexer": "ipython3",
   "version": "3.11.9"
  }
 },
 "nbformat": 4,
 "nbformat_minor": 5
}
