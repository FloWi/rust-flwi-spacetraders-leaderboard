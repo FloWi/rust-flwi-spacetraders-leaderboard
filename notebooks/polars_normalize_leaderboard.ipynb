{
 "cells": [
  {
   "cell_type": "markdown",
   "id": "fca92c00-639c-4419-b7db-9e7bf1e27669",
   "metadata": {},
   "source": [
    "# Converting leaderboard databases to pandas dataframe"
   ]
  },
  {
   "cell_type": "code",
   "execution_count": 1,
   "id": "ce646b20-208d-4add-8a7f-5a1e74aba3e7",
   "metadata": {},
   "outputs": [],
   "source": [
    "import polars as pl\n",
    "import pandas as pd\n",
    "import sqlite3\n",
    "import matplotlib.pyplot as plt\n",
    "import numpy as np\n",
    "from IPython.core.display import Markdown"
   ]
  },
  {
   "cell_type": "code",
   "execution_count": 2,
   "id": "fbb0e9ff-a244-4419-934f-5098cb087ebf",
   "metadata": {},
   "outputs": [
    {
     "data": {
      "text/plain": [
       "'0.20.10'"
      ]
     },
     "execution_count": 2,
     "metadata": {},
     "output_type": "execute_result"
    }
   ],
   "source": [
    "pl.__version__"
   ]
  },
  {
   "cell_type": "code",
   "execution_count": 3,
   "id": "467d9a46-5870-41f1-abda-870d52dd8a6d",
   "metadata": {},
   "outputs": [],
   "source": [
    "# Define the struct dtype for the materials array\n",
    "materials_struct_dtype = pl.Struct({\n",
    "    \"fulfilled\": pl.Int64,\n",
    "    \"required\": pl.Int64,\n",
    "    \"tradeSymbol\": pl.Utf8,\n",
    "})\n",
    "\n",
    "# Define the overall struct dtype for the JSON\n",
    "json_struct_dtype = pl.Struct({\n",
    "    \"isComplete\": pl.Boolean,\n",
    "    \"materials\": pl.List(materials_struct_dtype),\n",
    "    \"symbol\": pl.Utf8,\n",
    "}\n",
    ")"
   ]
  },
  {
   "cell_type": "code",
   "execution_count": 4,
   "id": "d929ec7f-2936-4590-ba89-e8e429725194",
   "metadata": {
    "scrolled": true
   },
   "outputs": [],
   "source": [
    "def read_dataframe(reset_date):\n",
    "    connection_string = f\"sqlite:///Users/florian_witteler/programming/spacetraders/flwi-spacetraders/data/database/flwi-spacetraders-leaderboard-reset_{reset_date}.db\"\n",
    "    df = pl.read_database_uri(query=\"\"\"\n",
    "    SELECT datetime(timestamp) as ts_string\n",
    "         , agent_id\n",
    "         , crawl_run_id\n",
    "         , credits\n",
    "         , ship_count\n",
    "         , construction_json\n",
    "         , agent_symbol\n",
    "         , headquarters_waypoint_symbol\n",
    "         , jump_gate_waypoint_symbol\n",
    "    from main.crawl_run cr\n",
    "             join main.leaderboard_entry le on cr.id = le.crawl_run_id\n",
    "             join main.static_agent_detail sad on le.agent_id = sad.id\n",
    "    \"\"\", uri=connection_string)\n",
    "\n",
    "    return df \\\n",
    "      .with_columns(pl.col(\"ts_string\").str.to_datetime('%Y-%m-%d %H:%M:%S').alias(\"ts\")) \\\n",
    "      .with_columns(pl.lit(reset_date).alias(\"reset_date\")) \\\n",
    "      .with_columns(pl.col(\"construction_json\").str.json_decode(json_struct_dtype)) \\\n",
    "      .drop(\"ts_string\", \"agent_id\", \"crawl_run_id\")"
   ]
  },
  {
   "cell_type": "markdown",
   "id": "0252f560-8eb3-4a08-a2f4-b5331cdf152a",
   "metadata": {},
   "source": [
    "## create dataframe from _all_ sqlite files"
   ]
  },
  {
   "cell_type": "code",
   "execution_count": 5,
   "id": "0ad21141-27e7-4a56-a4f3-dbb53eb2539a",
   "metadata": {},
   "outputs": [],
   "source": [
    "df_all = pl.concat([\n",
    "    read_dataframe(\"2023_11_18\"),\n",
    "    read_dataframe(\"2023_12_02\"),\n",
    "    read_dataframe(\"2023_12_16\"),\n",
    "    read_dataframe(\"2023_12_30\"),\n",
    "    read_dataframe(\"2024_01_13\"),\n",
    "    read_dataframe(\"2024_01_28\"),\n",
    "    read_dataframe(\"2024_02_11\"),\n",
    "    read_dataframe(\"2024_02_25\"),\n",
    "    read_dataframe(\"2024_03_10\"),\n",
    "    read_dataframe(\"2024_03_24\"),\n",
    "])  "
   ]
  },
  {
   "cell_type": "markdown",
   "id": "ae7d9dc7-0daa-40b9-b0d2-214e39c02860",
   "metadata": {},
   "source": [
    "### notes\n",
    "Roudtrip via parquet is necessary, since we encounter a bug otherwise. Seems to be a problem with concatenation of different dataframes\n",
    "```text\n",
    "thread '<unnamed>' panicked at /Users/runner/work/polars/polars/crates/polars-arrow/src/chunk.rs:20:31:\n",
    "called `Result::unwrap()` on an `Err` value: ComputeError(ErrString(\"Chunk require all its arrays to have an equal number of rows\"))\n",
    "```"
   ]
  },
  {
   "cell_type": "code",
   "execution_count": 6,
   "id": "dc1fcdc7-cee2-48d1-8d3c-7216370a31a0",
   "metadata": {},
   "outputs": [],
   "source": [
    "df_all.write_parquet(\"all_resets.parquet\")"
   ]
  },
  {
   "cell_type": "code",
   "execution_count": 7,
   "id": "fc42bddc-e65c-4790-a5f3-ab02918ed5fa",
   "metadata": {},
   "outputs": [],
   "source": [
    "df_all = pl.read_parquet(\"all_resets.parquet\")"
   ]
  },
  {
   "cell_type": "code",
   "execution_count": 113,
   "id": "4516f396-6ce2-4be7-8d3f-f862d2704b09",
   "metadata": {},
   "outputs": [
    {
     "data": {
      "text/html": [
       "<div><style>\n",
       ".dataframe > thead > tr,\n",
       ".dataframe > tbody > tr {\n",
       "  text-align: right;\n",
       "  white-space: pre-wrap;\n",
       "}\n",
       "</style>\n",
       "<small>shape: (5, 4)</small><table border=\"1\" class=\"dataframe\"><thead><tr><th>reset</th><th>reset_date_str</th><th>first_ts</th><th>reset_id</th></tr><tr><td>str</td><td>str</td><td>datetime[μs]</td><td>u32</td></tr></thead><tbody><tr><td>&quot;2023-11-18&quot;</td><td>&quot;2023_11_18&quot;</td><td>2023-11-19 12:30:00</td><td>1</td></tr><tr><td>&quot;2023-12-02&quot;</td><td>&quot;2023_12_02&quot;</td><td>2023-12-02 19:10:00</td><td>2</td></tr><tr><td>&quot;2023-12-16&quot;</td><td>&quot;2023_12_16&quot;</td><td>2023-12-16 20:25:00</td><td>3</td></tr><tr><td>&quot;2023-12-30&quot;</td><td>&quot;2023_12_30&quot;</td><td>2023-12-30 17:15:00</td><td>4</td></tr><tr><td>&quot;2024-01-13&quot;</td><td>&quot;2024_01_13&quot;</td><td>2024-01-13 17:25:00</td><td>5</td></tr></tbody></table></div>"
      ],
      "text/plain": [
       "shape: (5, 4)\n",
       "┌────────────┬────────────────┬─────────────────────┬──────────┐\n",
       "│ reset      ┆ reset_date_str ┆ first_ts            ┆ reset_id │\n",
       "│ ---        ┆ ---            ┆ ---                 ┆ ---      │\n",
       "│ str        ┆ str            ┆ datetime[μs]        ┆ u32      │\n",
       "╞════════════╪════════════════╪═════════════════════╪══════════╡\n",
       "│ 2023-11-18 ┆ 2023_11_18     ┆ 2023-11-19 12:30:00 ┆ 1        │\n",
       "│ 2023-12-02 ┆ 2023_12_02     ┆ 2023-12-02 19:10:00 ┆ 2        │\n",
       "│ 2023-12-16 ┆ 2023_12_16     ┆ 2023-12-16 20:25:00 ┆ 3        │\n",
       "│ 2023-12-30 ┆ 2023_12_30     ┆ 2023-12-30 17:15:00 ┆ 4        │\n",
       "│ 2024-01-13 ┆ 2024_01_13     ┆ 2024-01-13 17:25:00 ┆ 5        │\n",
       "└────────────┴────────────────┴─────────────────────┴──────────┘"
      ]
     },
     "execution_count": 113,
     "metadata": {},
     "output_type": "execute_result"
    }
   ],
   "source": [
    "resets_df = df_all.select(\n",
    "    pl.col(\"reset_date\").str\n",
    "    .to_date(\"%Y_%m_%d\")\n",
    "    .dt\n",
    "    .strftime('%Y-%m-%d')\n",
    "    .alias(\"reset\"),\n",
    "    pl.col(\"reset_date\"),\n",
    "    pl.col(\"ts\")\n",
    ").group_by(\n",
    "    \"reset\", \"reset_date\"\n",
    ").agg(\n",
    "    pl.col(\"ts\").min().alias(\"first_ts\")\n",
    ").sort(\n",
    "    \"reset\", descending=False\n",
    ").with_columns(\n",
    "    reset_id = pl.col(\"reset\").cum_count()\n",
    ").rename(\n",
    "    {\"reset_date\": \"reset_date_str\"}\n",
    ")\n",
    "resets_df.head(5)"
   ]
  },
  {
   "cell_type": "code",
   "execution_count": 114,
   "id": "2acf7422-6cad-48f2-9450-2a87e6e97717",
   "metadata": {},
   "outputs": [
    {
     "data": {
      "text/html": [
       "<div><style>\n",
       ".dataframe > thead > tr,\n",
       ".dataframe > tbody > tr {\n",
       "  text-align: right;\n",
       "  white-space: pre-wrap;\n",
       "}\n",
       "</style>\n",
       "<small>shape: (5, 5)</small><table border=\"1\" class=\"dataframe\"><thead><tr><th>reset</th><th>jump_gate_waypoint_symbol</th><th>reset_date_str</th><th>reset_id</th><th>id</th></tr><tr><td>str</td><td>str</td><td>str</td><td>u32</td><td>u32</td></tr></thead><tbody><tr><td>&quot;2023-11-18&quot;</td><td>&quot;X1-FV87-I58&quot;</td><td>&quot;2023_11_18&quot;</td><td>1</td><td>1</td></tr><tr><td>&quot;2023-11-18&quot;</td><td>&quot;X1-SU26-I50&quot;</td><td>&quot;2023_11_18&quot;</td><td>1</td><td>2</td></tr><tr><td>&quot;2023-11-18&quot;</td><td>&quot;X1-UJ41-I59&quot;</td><td>&quot;2023_11_18&quot;</td><td>1</td><td>3</td></tr><tr><td>&quot;2023-12-02&quot;</td><td>&quot;X1-DM78-I58&quot;</td><td>&quot;2023_12_02&quot;</td><td>2</td><td>4</td></tr><tr><td>&quot;2023-12-02&quot;</td><td>&quot;X1-NT56-I55&quot;</td><td>&quot;2023_12_02&quot;</td><td>2</td><td>5</td></tr></tbody></table></div>"
      ],
      "text/plain": [
       "shape: (5, 5)\n",
       "┌────────────┬───────────────────────────┬────────────────┬──────────┬─────┐\n",
       "│ reset      ┆ jump_gate_waypoint_symbol ┆ reset_date_str ┆ reset_id ┆ id  │\n",
       "│ ---        ┆ ---                       ┆ ---            ┆ ---      ┆ --- │\n",
       "│ str        ┆ str                       ┆ str            ┆ u32      ┆ u32 │\n",
       "╞════════════╪═══════════════════════════╪════════════════╪══════════╪═════╡\n",
       "│ 2023-11-18 ┆ X1-FV87-I58               ┆ 2023_11_18     ┆ 1        ┆ 1   │\n",
       "│ 2023-11-18 ┆ X1-SU26-I50               ┆ 2023_11_18     ┆ 1        ┆ 2   │\n",
       "│ 2023-11-18 ┆ X1-UJ41-I59               ┆ 2023_11_18     ┆ 1        ┆ 3   │\n",
       "│ 2023-12-02 ┆ X1-DM78-I58               ┆ 2023_12_02     ┆ 2        ┆ 4   │\n",
       "│ 2023-12-02 ┆ X1-NT56-I55               ┆ 2023_12_02     ┆ 2        ┆ 5   │\n",
       "└────────────┴───────────────────────────┴────────────────┴──────────┴─────┘"
      ]
     },
     "execution_count": 114,
     "metadata": {},
     "output_type": "execute_result"
    }
   ],
   "source": [
    "construction_site_df = df_all.select(\n",
    "    pl.col(\"reset_date\")\n",
    "    .str\n",
    "    .to_date(\"%Y_%m_%d\")\n",
    "    .dt\n",
    "    .strftime('%Y-%m-%d')\n",
    "    .alias(\"reset\"),\n",
    "    pl.col(\"jump_gate_waypoint_symbol\")\n",
    ").unique(\n",
    "    \n",
    ").join(\n",
    "    resets_df, on=\"reset\"\n",
    ").with_columns(\n",
    "    id = pl.col(\"reset\").cum_count()\n",
    ").drop(\n",
    "    \"first_ts\"\n",
    ")\n",
    "construction_site_df.head(5)"
   ]
  },
  {
   "cell_type": "code",
   "execution_count": 115,
   "id": "02230a52-0c58-4482-ae5c-b8f2697e3598",
   "metadata": {},
   "outputs": [
    {
     "data": {
      "text/html": [
       "<div><style>\n",
       ".dataframe > thead > tr,\n",
       ".dataframe > tbody > tr {\n",
       "  text-align: right;\n",
       "  white-space: pre-wrap;\n",
       "}\n",
       "</style>\n",
       "<small>shape: (5, 6)</small><table border=\"1\" class=\"dataframe\"><thead><tr><th>reset_date</th><th>required</th><th>trade_symbol</th><th>reset</th><th>reset_id</th><th>id</th></tr><tr><td>str</td><td>i64</td><td>str</td><td>str</td><td>u32</td><td>u32</td></tr></thead><tbody><tr><td>&quot;2023_12_16&quot;</td><td>4000</td><td>&quot;FAB_MATS&quot;</td><td>&quot;2023-12-16&quot;</td><td>3</td><td>1</td></tr><tr><td>&quot;2023_12_16&quot;</td><td>1200</td><td>&quot;ADVANCED_CIRCU…</td><td>&quot;2023-12-16&quot;</td><td>3</td><td>2</td></tr><tr><td>&quot;2023_12_16&quot;</td><td>1</td><td>&quot;QUANTUM_STABIL…</td><td>&quot;2023-12-16&quot;</td><td>3</td><td>3</td></tr><tr><td>&quot;2024_01_28&quot;</td><td>4000</td><td>&quot;FAB_MATS&quot;</td><td>&quot;2024-01-28&quot;</td><td>6</td><td>4</td></tr><tr><td>&quot;2024_01_28&quot;</td><td>1200</td><td>&quot;ADVANCED_CIRCU…</td><td>&quot;2024-01-28&quot;</td><td>6</td><td>5</td></tr></tbody></table></div>"
      ],
      "text/plain": [
       "shape: (5, 6)\n",
       "┌────────────┬──────────┬─────────────────────┬────────────┬──────────┬─────┐\n",
       "│ reset_date ┆ required ┆ trade_symbol        ┆ reset      ┆ reset_id ┆ id  │\n",
       "│ ---        ┆ ---      ┆ ---                 ┆ ---        ┆ ---      ┆ --- │\n",
       "│ str        ┆ i64      ┆ str                 ┆ str        ┆ u32      ┆ u32 │\n",
       "╞════════════╪══════════╪═════════════════════╪════════════╪══════════╪═════╡\n",
       "│ 2023_12_16 ┆ 4000     ┆ FAB_MATS            ┆ 2023-12-16 ┆ 3        ┆ 1   │\n",
       "│ 2023_12_16 ┆ 1200     ┆ ADVANCED_CIRCUITRY  ┆ 2023-12-16 ┆ 3        ┆ 2   │\n",
       "│ 2023_12_16 ┆ 1        ┆ QUANTUM_STABILIZERS ┆ 2023-12-16 ┆ 3        ┆ 3   │\n",
       "│ 2024_01_28 ┆ 4000     ┆ FAB_MATS            ┆ 2024-01-28 ┆ 6        ┆ 4   │\n",
       "│ 2024_01_28 ┆ 1200     ┆ ADVANCED_CIRCUITRY  ┆ 2024-01-28 ┆ 6        ┆ 5   │\n",
       "└────────────┴──────────┴─────────────────────┴────────────┴──────────┴─────┘"
      ]
     },
     "execution_count": 115,
     "metadata": {},
     "output_type": "execute_result"
    }
   ],
   "source": [
    "construction_requirement_df = df_all.group_by(\n",
    "    pl.col(\"reset_date\")\n",
    ").agg(\n",
    "    pl.col(\"construction_json\").last().struct.field(\"materials\").alias(\"materials\")  # there was an error in one of the resets with the advanced circuits which was fixed during the reset\n",
    ").explode(\n",
    "    \"materials\"\n",
    ").unnest(\n",
    "    \"materials\"\n",
    ").rename(\n",
    "    {\"tradeSymbol\": \"trade_symbol\"}\n",
    ").join(\n",
    "    resets_df, left_on=\"reset_date\", right_on=\"reset_date_str\"\n",
    ").drop(\n",
    "    \"fulfilled\", \"first_ts\"\n",
    ").with_columns(\n",
    "    id = pl.col(\"reset\").cum_count()\n",
    ")\n",
    "\n",
    "construction_requirement_df.head(5)"
   ]
  },
  {
   "cell_type": "code",
   "execution_count": 118,
   "id": "5c84f4f9-bf6f-4c40-afd4-e7ade2bd40c0",
   "metadata": {},
   "outputs": [
    {
     "data": {
      "text/html": [
       "<div><style>\n",
       ".dataframe > thead > tr,\n",
       ".dataframe > tbody > tr {\n",
       "  text-align: right;\n",
       "  white-space: pre-wrap;\n",
       "}\n",
       "</style>\n",
       "<small>shape: (5, 7)</small><table border=\"1\" class=\"dataframe\"><thead><tr><th>agent_symbol</th><th>agent_headquarters_waypoint_symbol</th><th>jump_gate_waypoint_symbol</th><th>query_time</th><th>reset_id</th><th>construction_site_id</th><th>id</th></tr><tr><td>str</td><td>str</td><td>str</td><td>datetime[μs]</td><td>u32</td><td>u32</td><td>u32</td></tr></thead><tbody><tr><td>&quot;ALKIE&quot;</td><td>&quot;X1-SJ68-A1&quot;</td><td>&quot;X1-SJ68-I61&quot;</td><td>2023-12-19 00:25:00</td><td>3</td><td>43</td><td>1</td></tr><tr><td>&quot;G5QQ3VDCGCBRAO…</td><td>&quot;X1-RY62-A1&quot;</td><td>&quot;X1-RY62-I58&quot;</td><td>2023-12-30 17:15:00</td><td>4</td><td>79</td><td>2</td></tr><tr><td>&quot;BAP&quot;</td><td>&quot;X1-BD74-A1&quot;</td><td>&quot;X1-BD74-I48&quot;</td><td>2024-02-25 22:55:00</td><td>8</td><td>168</td><td>3</td></tr><tr><td>&quot;CTRI-U-&quot;</td><td>&quot;X1-GX33-A1&quot;</td><td>&quot;X1-GX33-I59&quot;</td><td>2023-12-30 23:05:00</td><td>4</td><td>254</td><td>4</td></tr><tr><td>&quot;MBP1&quot;</td><td>&quot;X1-UF75-A1&quot;</td><td>&quot;X1-UF75-I56&quot;</td><td>2023-12-31 00:50:00</td><td>4</td><td>185</td><td>5</td></tr></tbody></table></div>"
      ],
      "text/plain": [
       "shape: (5, 7)\n",
       "┌────────────────┬────────────────┬───────────────┬───────────────┬──────────┬───────────────┬─────┐\n",
       "│ agent_symbol   ┆ agent_headquar ┆ jump_gate_way ┆ query_time    ┆ reset_id ┆ construction_ ┆ id  │\n",
       "│ ---            ┆ ters_waypoint_ ┆ point_symbol  ┆ ---           ┆ ---      ┆ site_id       ┆ --- │\n",
       "│ str            ┆ symb…          ┆ ---           ┆ datetime[μs]  ┆ u32      ┆ ---           ┆ u32 │\n",
       "│                ┆ ---            ┆ str           ┆               ┆          ┆ u32           ┆     │\n",
       "│                ┆ str            ┆               ┆               ┆          ┆               ┆     │\n",
       "╞════════════════╪════════════════╪═══════════════╪═══════════════╪══════════╪═══════════════╪═════╡\n",
       "│ ALKIE          ┆ X1-SJ68-A1     ┆ X1-SJ68-I61   ┆ 2023-12-19    ┆ 3        ┆ 43            ┆ 1   │\n",
       "│                ┆                ┆               ┆ 00:25:00      ┆          ┆               ┆     │\n",
       "│ G5QQ3VDCGCBRAO ┆ X1-RY62-A1     ┆ X1-RY62-I58   ┆ 2023-12-30    ┆ 4        ┆ 79            ┆ 2   │\n",
       "│                ┆                ┆               ┆ 17:15:00      ┆          ┆               ┆     │\n",
       "│ BAP            ┆ X1-BD74-A1     ┆ X1-BD74-I48   ┆ 2024-02-25    ┆ 8        ┆ 168           ┆ 3   │\n",
       "│                ┆                ┆               ┆ 22:55:00      ┆          ┆               ┆     │\n",
       "│ CTRI-U-        ┆ X1-GX33-A1     ┆ X1-GX33-I59   ┆ 2023-12-30    ┆ 4        ┆ 254           ┆ 4   │\n",
       "│                ┆                ┆               ┆ 23:05:00      ┆          ┆               ┆     │\n",
       "│ MBP1           ┆ X1-UF75-A1     ┆ X1-UF75-I56   ┆ 2023-12-31    ┆ 4        ┆ 185           ┆ 5   │\n",
       "│                ┆                ┆               ┆ 00:50:00      ┆          ┆               ┆     │\n",
       "└────────────────┴────────────────┴───────────────┴───────────────┴──────────┴───────────────┴─────┘"
      ]
     },
     "execution_count": 118,
     "metadata": {},
     "output_type": "execute_result"
    }
   ],
   "source": [
    "static_agent_info_df = df_all.group_by(\n",
    "    pl.col(\"reset_date\", \"agent_symbol\")\n",
    ").agg(\n",
    "    pl.col(\"headquarters_waypoint_symbol\").first(),\n",
    "    pl.col(\"jump_gate_waypoint_symbol\").first(),\n",
    "    pl.col(\"ts\").min(),\n",
    ").join(\n",
    "    resets_df, left_on=\"reset_date\", right_on=\"reset_date_str\"\n",
    ").drop(\n",
    "    \"first_ts\"\n",
    ").join(\n",
    "    construction_site_df.rename({\"id\": \"construction_site_id\"}), left_on=[\"reset_id\", \"jump_gate_waypoint_symbol\"], right_on=[\"reset_id\", \"jump_gate_waypoint_symbol\"]\n",
    ").with_columns(\n",
    "    id = pl.col(\"reset\").cum_count()\n",
    ").rename(\n",
    "    {\"ts\": \"query_time\",\n",
    "    \"headquarters_waypoint_symbol\": \"agent_headquarters_waypoint_symbol\"}\n",
    ").drop(\n",
    "    \"reset_date\",\"reset_date_str\", \"reset\", \"reset_right\", \"first_ts\"\n",
    ")\n",
    "static_agent_info_df.head(5)"
   ]
  },
  {
   "cell_type": "code",
   "execution_count": 119,
   "id": "b03f497b-df77-4f6d-b183-afdf5283a514",
   "metadata": {},
   "outputs": [
    {
     "data": {
      "text/html": [
       "<div><style>\n",
       ".dataframe > thead > tr,\n",
       ".dataframe > tbody > tr {\n",
       "  text-align: right;\n",
       "  white-space: pre-wrap;\n",
       "}\n",
       "</style>\n",
       "<small>shape: (5, 5)</small><table border=\"1\" class=\"dataframe\"><thead><tr><th>reset_date</th><th>query_time</th><th>id</th><th>reset</th><th>reset_id</th></tr><tr><td>str</td><td>datetime[μs]</td><td>u32</td><td>str</td><td>u32</td></tr></thead><tbody><tr><td>&quot;2023_11_18&quot;</td><td>2023-11-19 13:30:00</td><td>1</td><td>&quot;2023-11-18&quot;</td><td>1</td></tr><tr><td>&quot;2023_11_18&quot;</td><td>2023-11-19 14:55:00</td><td>2</td><td>&quot;2023-11-18&quot;</td><td>1</td></tr><tr><td>&quot;2023_11_18&quot;</td><td>2023-11-19 16:50:00</td><td>3</td><td>&quot;2023-11-18&quot;</td><td>1</td></tr><tr><td>&quot;2023_11_18&quot;</td><td>2023-11-19 17:15:00</td><td>4</td><td>&quot;2023-11-18&quot;</td><td>1</td></tr><tr><td>&quot;2023_11_18&quot;</td><td>2023-11-19 17:20:00</td><td>5</td><td>&quot;2023-11-18&quot;</td><td>1</td></tr></tbody></table></div>"
      ],
      "text/plain": [
       "shape: (5, 5)\n",
       "┌────────────┬─────────────────────┬─────┬────────────┬──────────┐\n",
       "│ reset_date ┆ query_time          ┆ id  ┆ reset      ┆ reset_id │\n",
       "│ ---        ┆ ---                 ┆ --- ┆ ---        ┆ ---      │\n",
       "│ str        ┆ datetime[μs]        ┆ u32 ┆ str        ┆ u32      │\n",
       "╞════════════╪═════════════════════╪═════╪════════════╪══════════╡\n",
       "│ 2023_11_18 ┆ 2023-11-19 13:30:00 ┆ 1   ┆ 2023-11-18 ┆ 1        │\n",
       "│ 2023_11_18 ┆ 2023-11-19 14:55:00 ┆ 2   ┆ 2023-11-18 ┆ 1        │\n",
       "│ 2023_11_18 ┆ 2023-11-19 16:50:00 ┆ 3   ┆ 2023-11-18 ┆ 1        │\n",
       "│ 2023_11_18 ┆ 2023-11-19 17:15:00 ┆ 4   ┆ 2023-11-18 ┆ 1        │\n",
       "│ 2023_11_18 ┆ 2023-11-19 17:20:00 ┆ 5   ┆ 2023-11-18 ┆ 1        │\n",
       "└────────────┴─────────────────────┴─────┴────────────┴──────────┘"
      ]
     },
     "execution_count": 119,
     "metadata": {},
     "output_type": "execute_result"
    }
   ],
   "source": [
    "job_run_df = df_all.select(\n",
    "    pl.col(\"reset_date\"),\n",
    "    pl.col(\"ts\").alias(\"query_time\")\n",
    ").unique(\n",
    ").with_columns(\n",
    "    id = pl.col(\"reset_date\").cum_count()\n",
    ").join(\n",
    "    resets_df, left_on=\"reset_date\", right_on=\"reset_date_str\"\n",
    ").drop(\"first_ts\")\n",
    "job_run_df.head(5)"
   ]
  },
  {
   "cell_type": "code",
   "execution_count": 120,
   "id": "f755b953-324c-48d3-b4b4-bef3e9b1efd1",
   "metadata": {},
   "outputs": [
    {
     "data": {
      "text/html": [
       "<div><style>\n",
       ".dataframe > thead > tr,\n",
       ".dataframe > tbody > tr {\n",
       "  text-align: right;\n",
       "  white-space: pre-wrap;\n",
       "}\n",
       "</style>\n",
       "<small>shape: (5, 13)</small><table border=\"1\" class=\"dataframe\"><thead><tr><th>query_time</th><th>agent_symbol</th><th>credits</th><th>ship_count</th><th>construction_json</th><th>reset_id</th><th>agent_headquarters_waypoint_symbol</th><th>jump_gate_waypoint_symbol</th><th>construction_site_id</th><th>agent_id</th><th>reset_date</th><th>job_id</th><th>reset</th></tr><tr><td>datetime[μs]</td><td>str</td><td>i64</td><td>i64</td><td>struct[3]</td><td>u32</td><td>str</td><td>str</td><td>u32</td><td>u32</td><td>str</td><td>u32</td><td>str</td></tr></thead><tbody><tr><td>2023-11-19 12:30:00</td><td>&quot;XOYCHTE&quot;</td><td>175000</td><td>2</td><td>{false,[{0,6000,&quot;FAB_MATS&quot;}, {500,0,&quot;ADVANCED_CIRCUITRY&quot;}, {1,1,&quot;QUANTUM_STABILIZERS&quot;}],&quot;X1-XZ50-I54&quot;}</td><td>1</td><td>&quot;X1-XZ50-A1&quot;</td><td>&quot;X1-XZ50-I54&quot;</td><td>150</td><td>388</td><td>&quot;2023_11_18&quot;</td><td>14479</td><td>&quot;2023-11-18&quot;</td></tr><tr><td>2023-11-19 12:30:00</td><td>&quot;TVTVTG4&quot;</td><td>175000</td><td>2</td><td>{false,[{0,6000,&quot;FAB_MATS&quot;}, {500,0,&quot;ADVANCED_CIRCUITRY&quot;}, {1,1,&quot;QUANTUM_STABILIZERS&quot;}],&quot;X1-PU57-I59&quot;}</td><td>1</td><td>&quot;X1-PU57-A1&quot;</td><td>&quot;X1-PU57-I59&quot;</td><td>244</td><td>400</td><td>&quot;2023_11_18&quot;</td><td>14479</td><td>&quot;2023-11-18&quot;</td></tr><tr><td>2023-11-19 12:30:00</td><td>&quot;BLABLABLA&quot;</td><td>175749</td><td>2</td><td>{false,[{0,6000,&quot;FAB_MATS&quot;}, {500,0,&quot;ADVANCED_CIRCUITRY&quot;}, {1,1,&quot;QUANTUM_STABILIZERS&quot;}],&quot;X1-FV87-I58&quot;}</td><td>1</td><td>&quot;X1-FV87-A1&quot;</td><td>&quot;X1-FV87-I58&quot;</td><td>1</td><td>33</td><td>&quot;2023_11_18&quot;</td><td>14479</td><td>&quot;2023-11-18&quot;</td></tr><tr><td>2023-11-19 12:30:00</td><td>&quot;BOOZE2&quot;</td><td>175000</td><td>2</td><td>{false,[{0,6000,&quot;FAB_MATS&quot;}, {500,0,&quot;ADVANCED_CIRCUITRY&quot;}, {1,1,&quot;QUANTUM_STABILIZERS&quot;}],&quot;X1-SK36-I63&quot;}</td><td>1</td><td>&quot;X1-SK36-A1&quot;</td><td>&quot;X1-SK36-I63&quot;</td><td>116</td><td>124</td><td>&quot;2023_11_18&quot;</td><td>14479</td><td>&quot;2023-11-18&quot;</td></tr><tr><td>2023-11-19 12:30:00</td><td>&quot;ESEMUSA&quot;</td><td>175600</td><td>2</td><td>{false,[{0,6000,&quot;FAB_MATS&quot;}, {500,0,&quot;ADVANCED_CIRCUITRY&quot;}, {1,1,&quot;QUANTUM_STABILIZERS&quot;}],&quot;X1-XZ50-I54&quot;}</td><td>1</td><td>&quot;X1-XZ50-A1&quot;</td><td>&quot;X1-XZ50-I54&quot;</td><td>150</td><td>172</td><td>&quot;2023_11_18&quot;</td><td>14479</td><td>&quot;2023-11-18&quot;</td></tr></tbody></table></div>"
      ],
      "text/plain": [
       "shape: (5, 13)\n",
       "┌────────────┬────────────┬─────────┬────────────┬───┬──────────┬────────────┬────────┬────────────┐\n",
       "│ query_time ┆ agent_symb ┆ credits ┆ ship_count ┆ … ┆ agent_id ┆ reset_date ┆ job_id ┆ reset      │\n",
       "│ ---        ┆ ol         ┆ ---     ┆ ---        ┆   ┆ ---      ┆ ---        ┆ ---    ┆ ---        │\n",
       "│ datetime[μ ┆ ---        ┆ i64     ┆ i64        ┆   ┆ u32      ┆ str        ┆ u32    ┆ str        │\n",
       "│ s]         ┆ str        ┆         ┆            ┆   ┆          ┆            ┆        ┆            │\n",
       "╞════════════╪════════════╪═════════╪════════════╪═══╪══════════╪════════════╪════════╪════════════╡\n",
       "│ 2023-11-19 ┆ XOYCHTE    ┆ 175000  ┆ 2          ┆ … ┆ 388      ┆ 2023_11_18 ┆ 14479  ┆ 2023-11-18 │\n",
       "│ 12:30:00   ┆            ┆         ┆            ┆   ┆          ┆            ┆        ┆            │\n",
       "│ 2023-11-19 ┆ TVTVTG4    ┆ 175000  ┆ 2          ┆ … ┆ 400      ┆ 2023_11_18 ┆ 14479  ┆ 2023-11-18 │\n",
       "│ 12:30:00   ┆            ┆         ┆            ┆   ┆          ┆            ┆        ┆            │\n",
       "│ 2023-11-19 ┆ BLABLABLA  ┆ 175749  ┆ 2          ┆ … ┆ 33       ┆ 2023_11_18 ┆ 14479  ┆ 2023-11-18 │\n",
       "│ 12:30:00   ┆            ┆         ┆            ┆   ┆          ┆            ┆        ┆            │\n",
       "│ 2023-11-19 ┆ BOOZE2     ┆ 175000  ┆ 2          ┆ … ┆ 124      ┆ 2023_11_18 ┆ 14479  ┆ 2023-11-18 │\n",
       "│ 12:30:00   ┆            ┆         ┆            ┆   ┆          ┆            ┆        ┆            │\n",
       "│ 2023-11-19 ┆ ESEMUSA    ┆ 175600  ┆ 2          ┆ … ┆ 172      ┆ 2023_11_18 ┆ 14479  ┆ 2023-11-18 │\n",
       "│ 12:30:00   ┆            ┆         ┆            ┆   ┆          ┆            ┆        ┆            │\n",
       "└────────────┴────────────┴─────────┴────────────┴───┴──────────┴────────────┴────────┴────────────┘"
      ]
     },
     "execution_count": 120,
     "metadata": {},
     "output_type": "execute_result"
    }
   ],
   "source": [
    "agent_log_df = df_all.select(\n",
    "    \"ts\", \"reset_date\", \"agent_symbol\", \"credits\", \"ship_count\", \"construction_json\"\n",
    ").join(\n",
    "    resets_df, left_on=\"reset_date\", right_on=\"reset_date_str\", suffix=\"_reset\"\n",
    ").drop(\n",
    "    \"reset_date\", \"reset\", \"first_ts\"\n",
    ").join(\n",
    "    static_agent_info_df, on=[\"reset_id\", \"agent_symbol\"], suffix=\"_static_agent_info\"\n",
    ").drop(\n",
    "    \"query_time\", \"first_ts\"\n",
    ").rename(\n",
    "    {\"id\": \"agent_id\",\n",
    "    \"ts\": \"query_time\"}\n",
    ").join(\n",
    "    job_run_df, on=[\"reset_id\", \"query_time\"], suffix=\"_static_agent_info\"\n",
    ").rename(\n",
    "    {\"id\": \"job_id\"}\n",
    ")\n",
    "\n",
    "agent_log_df.head(5)"
   ]
  },
  {
   "cell_type": "code",
   "execution_count": null,
   "id": "b7ca86df-d02e-4e7e-9a98-02f3891e3c36",
   "metadata": {},
   "outputs": [],
   "source": [
    "construction_details_df = agent_log_df.select(\n",
    "    pl.col(\"jump_gate_waypoint_symbol\"),\n",
    "    pl.col(\"construction_json\").struct.field(\"isComplete\").alias(\"is_complete\"),\n",
    "    pl.col(\"construction_json\").struct.field(\"materials\"),\n",
    "    pl.col(\"job_id\"),\n",
    "    pl.col(\"reset_id\")\n",
    ").join(\n",
    "    construction_site_df, on=['reset_id', 'jump_gate_waypoint_symbol']\n",
    ").rename(\n",
    "    {\"id\": \"construction_site_id\"}\n",
    ")\n",
    "\n",
    "construction_details_df.head(5)"
   ]
  },
  {
   "cell_type": "code",
   "execution_count": null,
   "id": "b2bb9bfb-2bcc-40e7-8207-f7705a5b1286",
   "metadata": {},
   "outputs": [],
   "source": [
    "construction_log_df = construction_details_df.drop(\n",
    "    \"materials\"\n",
    ").unique(\n",
    "    \n",
    ").with_columns(\n",
    "    id = pl.col(\"reset\").cum_count()\n",
    ")\n",
    "construction_log_df.head(5)"
   ]
  },
  {
   "cell_type": "code",
   "execution_count": null,
   "id": "09b4a4c2-735f-4c47-bbb2-b2535ec615bb",
   "metadata": {},
   "outputs": [],
   "source": [
    "construction_material_log_df = construction_details_df.explode(\n",
    "    \"materials\"\n",
    ").unnest(\n",
    "    \"materials\"\n",
    ").unique(\n",
    ").join(\n",
    "    construction_log_df, on=[\"construction_site_id\", \"job_id\"]\n",
    ").rename(\n",
    "    {\"id\": \"construction_log_id\", \n",
    "    \"tradeSymbol\": \"trade_symbol\"}\n",
    ").join(\n",
    "    construction_requirement_df, on=[\"reset_id\", \"trade_symbol\"], suffix=\"_construction_requirement\"\n",
    ").rename(\n",
    "    {\"id\": \"construction_requirement_id\"}\n",
    ")\n",
    "construction_material_log_df.head(5)"
   ]
  },
  {
   "cell_type": "code",
   "execution_count": null,
   "id": "6b05876f-f67d-4dcf-8555-9dbb0290cd4c",
   "metadata": {},
   "outputs": [],
   "source": [
    "db_path = f\"sqlite:////Users/florian_witteler/programming/rust/flwi-spacetraders-leaderboard/data/flwi-leaderboard.db\""
   ]
  },
  {
   "cell_type": "code",
   "execution_count": null,
   "id": "db8d4fa6-bfab-4468-bb19-99b7d739df07",
   "metadata": {},
   "outputs": [],
   "source": [
    "resets_df.drop(\"reset_date_str\").write_database(table_name=\"reset_date\", connection=db_path, if_table_exists='append')"
   ]
  },
  {
   "cell_type": "code",
   "execution_count": null,
   "id": "67aca495-a355-40ae-8cdd-1b0de56aa6cd",
   "metadata": {},
   "outputs": [],
   "source": [
    "construction_site_df.drop(\"reset\", \"reset_date_str\", \"first_ts\").write_database(table_name=\"construction_site\", connection=db_path, if_table_exists='append')"
   ]
  },
  {
   "cell_type": "code",
   "execution_count": null,
   "id": "00e49527-88d0-4119-95c6-a65efe040e31",
   "metadata": {},
   "outputs": [],
   "source": [
    "construction_requirement_df.drop(\"reset\", \"reset_date\", \"first_ts\").write_database(table_name=\"construction_requirement\", connection=db_path, if_table_exists='append')"
   ]
  },
  {
   "cell_type": "code",
   "execution_count": null,
   "id": "cab40122-9f9f-439d-a52c-3bd260c1cd88",
   "metadata": {},
   "outputs": [],
   "source": [
    "static_agent_info_df.drop(\n",
    "    \"reset_date_str\", \"jump_gate_waypoint_symbol\", \"first_ts\"\n",
    ").with_columns(\n",
    "    starting_faction = pl.lit(\"\")\n",
    ").write_database(\n",
    "    table_name=\"static_agent_info\", connection=db_path, if_table_exists='append'\n",
    ")"
   ]
  },
  {
   "cell_type": "code",
   "execution_count": null,
   "id": "c36e0c68-7f9c-486c-a842-c1ab7b3a8b4e",
   "metadata": {},
   "outputs": [],
   "source": [
    "job_run_df.drop(\"reset_date\", \"reset\").write_database(table_name=\"job_run\", connection=db_path, if_table_exists='append')"
   ]
  },
  {
   "cell_type": "code",
   "execution_count": null,
   "id": "66712e84-4729-40ee-ab5d-1195691d1461",
   "metadata": {},
   "outputs": [],
   "source": [
    "agent_log_df.select(\n",
    "\"agent_id\",\n",
    "\"job_id\",\n",
    "\"credits\",\n",
    "\"ship_count\"\n",
    ").write_database(table_name=\"agent_log\", connection=db_path, if_table_exists='append')"
   ]
  },
  {
   "cell_type": "code",
   "execution_count": null,
   "id": "f98bfa10-84cb-4423-8fe4-fc247e257a1a",
   "metadata": {},
   "outputs": [],
   "source": [
    "construction_log_df.drop(\"reset_date_str\", \"reset\", \"jump_gate_waypoint_symbol\", \"reset_id\").write_database(table_name=\"construction_log\", connection=db_path, if_table_exists='append')"
   ]
  },
  {
   "cell_type": "code",
   "execution_count": null,
   "id": "ceb6e6dd-7815-4a24-87d8-904bd12fb258",
   "metadata": {},
   "outputs": [],
   "source": [
    "construction_material_log_df.select(\"construction_log_id\", \"construction_requirement_id\", \"fulfilled\").write_database(table_name=\"construction_material_log\", connection=db_path, if_table_exists='append')"
   ]
  },
  {
   "cell_type": "code",
   "execution_count": null,
   "id": "0c1f88b2-5954-4d73-981d-d388722cc90e",
   "metadata": {},
   "outputs": [],
   "source": []
  }
 ],
 "metadata": {
  "kernelspec": {
   "display_name": "Python 3 (ipykernel)",
   "language": "python",
   "name": "python3"
  },
  "language_info": {
   "codemirror_mode": {
    "name": "ipython",
    "version": 3
   },
   "file_extension": ".py",
   "mimetype": "text/x-python",
   "name": "python",
   "nbconvert_exporter": "python",
   "pygments_lexer": "ipython3",
   "version": "3.11.8"
  }
 },
 "nbformat": 4,
 "nbformat_minor": 5
}
